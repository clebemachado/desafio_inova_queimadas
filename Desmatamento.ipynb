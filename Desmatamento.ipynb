{
 "cells": [
  {
   "cell_type": "code",
   "execution_count": 1,
   "id": "19a5f18b",
   "metadata": {},
   "outputs": [],
   "source": [
    "import pandas as pd\n",
    "from functools import reduce"
   ]
  },
  {
   "cell_type": "markdown",
   "id": "0f8f575d",
   "metadata": {},
   "source": [
    "## Limpar dados"
   ]
  },
  {
   "cell_type": "code",
   "execution_count": 10,
   "id": "2656f382",
   "metadata": {},
   "outputs": [],
   "source": [
    "def getDesmatamento(path):\n",
    "    dados = pd.read_csv(path, encoding = \"ISO-8859-1\", sep=\",\")\n",
    "    dados = dados.iloc[:, [5, 6, 8, 9]]\n",
    "    dados.set_index('CodIbge', inplace = True)\n",
    "    return dados"
   ]
  },
  {
   "cell_type": "markdown",
   "id": "a5864a74",
   "metadata": {},
   "source": [
    "## Caminhos dos dados"
   ]
  },
  {
   "cell_type": "code",
   "execution_count": 11,
   "id": "67916ebf",
   "metadata": {},
   "outputs": [],
   "source": [
    "path2011 = 'Dados/Desmatamento/DesmatamentoMunicipiosMA2011.txt'\n",
    "path2012 = 'Dados/Desmatamento/DesmatamentoMunicipiosMA2012.txt'\n",
    "path2013 = 'Dados/Desmatamento/DesmatamentoMunicipiosMA2013.txt'\n",
    "path2014 = 'Dados/Desmatamento/DesmatamentoMunicipiosMA2014.txt'\n",
    "path2015 = 'Dados/Desmatamento/DesmatamentoMunicipiosMA2015.txt'\n",
    "path2016 = 'Dados/Desmatamento/DesmatamentoMunicipiosMA2016.txt'\n",
    "path2017 = 'Dados/Desmatamento/DesmatamentoMunicipiosMA2017.txt'\n",
    "path2018 = 'Dados/Desmatamento/DesmatamentoMunicipiosMA2018.txt'\n",
    "path2019 = 'Dados/Desmatamento/DesmatamentoMunicipiosMA2019.txt'\n",
    "path2020 = 'Dados/Desmatamento/DesmatamentoMunicipiosMA2020.txt'"
   ]
  },
  {
   "cell_type": "markdown",
   "id": "2258ddcd",
   "metadata": {},
   "source": [
    "## Carregando os dados"
   ]
  },
  {
   "cell_type": "code",
   "execution_count": 12,
   "id": "86ae4af5",
   "metadata": {},
   "outputs": [],
   "source": [
    "desmatamento_2011 = getDesmatamento(path2011)\n",
    "desmatamento_2012 = getDesmatamento(path2012)\n",
    "desmatamento_2013 = getDesmatamento(path2013)\n",
    "desmatamento_2014 = getDesmatamento(path2014)\n",
    "desmatamento_2015 = getDesmatamento(path2015)\n",
    "desmatamento_2016 = getDesmatamento(path2016)\n",
    "desmatamento_2017 = getDesmatamento(path2017)\n",
    "desmatamento_2018 = getDesmatamento(path2018)\n",
    "desmatamento_2019 = getDesmatamento(path2019)\n",
    "desmatamento_2020 = getDesmatamento(path2020)"
   ]
  },
  {
   "cell_type": "code",
   "execution_count": 13,
   "id": "d9f81237",
   "metadata": {},
   "outputs": [
    {
     "data": {
      "text/html": [
       "<div>\n",
       "<style scoped>\n",
       "    .dataframe tbody tr th:only-of-type {\n",
       "        vertical-align: middle;\n",
       "    }\n",
       "\n",
       "    .dataframe tbody tr th {\n",
       "        vertical-align: top;\n",
       "    }\n",
       "\n",
       "    .dataframe thead th {\n",
       "        text-align: right;\n",
       "    }\n",
       "</style>\n",
       "<table border=\"1\" class=\"dataframe\">\n",
       "  <thead>\n",
       "    <tr style=\"text-align: right;\">\n",
       "      <th></th>\n",
       "      <th>Municipio</th>\n",
       "      <th>AreaKm2</th>\n",
       "      <th>Desmatado2020</th>\n",
       "    </tr>\n",
       "    <tr>\n",
       "      <th>CodIbge</th>\n",
       "      <th></th>\n",
       "      <th></th>\n",
       "      <th></th>\n",
       "    </tr>\n",
       "  </thead>\n",
       "  <tbody>\n",
       "    <tr>\n",
       "      <th>2114007</th>\n",
       "      <td>Zé Doca</td>\n",
       "      <td>2438</td>\n",
       "      <td>2022.6</td>\n",
       "    </tr>\n",
       "    <tr>\n",
       "      <th>2113009</th>\n",
       "      <td>Vitorino Freire</td>\n",
       "      <td>1209</td>\n",
       "      <td>1166.3</td>\n",
       "    </tr>\n",
       "    <tr>\n",
       "      <th>2112902</th>\n",
       "      <td>Vitória do Mearim</td>\n",
       "      <td>736</td>\n",
       "      <td>244.3</td>\n",
       "    </tr>\n",
       "    <tr>\n",
       "      <th>2112852</th>\n",
       "      <td>Vila Nova dos Martírios</td>\n",
       "      <td>1196</td>\n",
       "      <td>974.8</td>\n",
       "    </tr>\n",
       "    <tr>\n",
       "      <th>2112803</th>\n",
       "      <td>Viana</td>\n",
       "      <td>1176</td>\n",
       "      <td>506.9</td>\n",
       "    </tr>\n",
       "  </tbody>\n",
       "</table>\n",
       "</div>"
      ],
      "text/plain": [
       "                       Municipio  AreaKm2  Desmatado2020\n",
       "CodIbge                                                 \n",
       "2114007                  Zé Doca     2438         2022.6\n",
       "2113009          Vitorino Freire     1209         1166.3\n",
       "2112902        Vitória do Mearim      736          244.3\n",
       "2112852  Vila Nova dos Martírios     1196          974.8\n",
       "2112803                    Viana     1176          506.9"
      ]
     },
     "execution_count": 13,
     "metadata": {},
     "output_type": "execute_result"
    }
   ],
   "source": [
    "desmatamento_2020.head()\n"
   ]
  },
  {
   "cell_type": "code",
   "execution_count": 14,
   "id": "b27d9592",
   "metadata": {},
   "outputs": [],
   "source": [
    "lista_dados = [desmatamento_2011, desmatamento_2012, desmatamento_2013, desmatamento_2014, desmatamento_2015, desmatamento_2016, desmatamento_2017, desmatamento_2018, desmatamento_2019, desmatamento_2020]"
   ]
  },
  {
   "cell_type": "code",
   "execution_count": 15,
   "id": "2176b0c7",
   "metadata": {},
   "outputs": [],
   "source": [
    "desmatamento = reduce(lambda a, b: pd.merge(a, b, how = 'outer', on = ['CodIbge', \"Municipio\", \"AreaKm2\" ]), lista_dados )"
   ]
  },
  {
   "cell_type": "code",
   "execution_count": 16,
   "id": "e9975e5d",
   "metadata": {},
   "outputs": [],
   "source": [
    "desmatamento.to_csv(\"Dados_Tratados/desmatamento_2011_2020.csv\")"
   ]
  },
  {
   "cell_type": "code",
   "execution_count": 17,
   "id": "de390fae",
   "metadata": {},
   "outputs": [
    {
     "data": {
      "text/html": [
       "<div>\n",
       "<style scoped>\n",
       "    .dataframe tbody tr th:only-of-type {\n",
       "        vertical-align: middle;\n",
       "    }\n",
       "\n",
       "    .dataframe tbody tr th {\n",
       "        vertical-align: top;\n",
       "    }\n",
       "\n",
       "    .dataframe thead th {\n",
       "        text-align: right;\n",
       "    }\n",
       "</style>\n",
       "<table border=\"1\" class=\"dataframe\">\n",
       "  <thead>\n",
       "    <tr style=\"text-align: right;\">\n",
       "      <th></th>\n",
       "      <th>Municipio</th>\n",
       "      <th>AreaKm2</th>\n",
       "      <th>Desmatado2011</th>\n",
       "      <th>Desmatado2012</th>\n",
       "      <th>Desmatado2013</th>\n",
       "      <th>Desmatado2014</th>\n",
       "      <th>Desmatado2015</th>\n",
       "      <th>Desmatado2016</th>\n",
       "      <th>Desmatado2017</th>\n",
       "      <th>Desmatado2018</th>\n",
       "      <th>Desmatado2019</th>\n",
       "      <th>Desmatado2020</th>\n",
       "    </tr>\n",
       "    <tr>\n",
       "      <th>CodIbge</th>\n",
       "      <th></th>\n",
       "      <th></th>\n",
       "      <th></th>\n",
       "      <th></th>\n",
       "      <th></th>\n",
       "      <th></th>\n",
       "      <th></th>\n",
       "      <th></th>\n",
       "      <th></th>\n",
       "      <th></th>\n",
       "      <th></th>\n",
       "      <th></th>\n",
       "    </tr>\n",
       "  </thead>\n",
       "  <tbody>\n",
       "    <tr>\n",
       "      <th>2114007</th>\n",
       "      <td>Zé Doca</td>\n",
       "      <td>2438</td>\n",
       "      <td>2003.3</td>\n",
       "      <td>2005.1</td>\n",
       "      <td>2009.9</td>\n",
       "      <td>2016.0</td>\n",
       "      <td>2016.8</td>\n",
       "      <td>2019.2</td>\n",
       "      <td>2019.9</td>\n",
       "      <td>2020.5</td>\n",
       "      <td>2021.6</td>\n",
       "      <td>2022.6</td>\n",
       "    </tr>\n",
       "    <tr>\n",
       "      <th>2113009</th>\n",
       "      <td>Vitorino Freire</td>\n",
       "      <td>1209</td>\n",
       "      <td>1166.3</td>\n",
       "      <td>1166.3</td>\n",
       "      <td>1166.3</td>\n",
       "      <td>1166.3</td>\n",
       "      <td>1166.3</td>\n",
       "      <td>1166.3</td>\n",
       "      <td>1166.3</td>\n",
       "      <td>1166.3</td>\n",
       "      <td>1166.3</td>\n",
       "      <td>1166.3</td>\n",
       "    </tr>\n",
       "    <tr>\n",
       "      <th>2112902</th>\n",
       "      <td>Vitória do Mearim</td>\n",
       "      <td>736</td>\n",
       "      <td>240.1</td>\n",
       "      <td>240.5</td>\n",
       "      <td>241.9</td>\n",
       "      <td>241.9</td>\n",
       "      <td>241.9</td>\n",
       "      <td>242.1</td>\n",
       "      <td>242.8</td>\n",
       "      <td>242.8</td>\n",
       "      <td>242.9</td>\n",
       "      <td>244.3</td>\n",
       "    </tr>\n",
       "    <tr>\n",
       "      <th>2112852</th>\n",
       "      <td>Vila Nova dos Martírios</td>\n",
       "      <td>1196</td>\n",
       "      <td>966.7</td>\n",
       "      <td>969.1</td>\n",
       "      <td>969.5</td>\n",
       "      <td>971.4</td>\n",
       "      <td>971.7</td>\n",
       "      <td>971.9</td>\n",
       "      <td>973.0</td>\n",
       "      <td>973.7</td>\n",
       "      <td>974.3</td>\n",
       "      <td>974.8</td>\n",
       "    </tr>\n",
       "    <tr>\n",
       "      <th>2112803</th>\n",
       "      <td>Viana</td>\n",
       "      <td>1176</td>\n",
       "      <td>503.7</td>\n",
       "      <td>503.9</td>\n",
       "      <td>505.8</td>\n",
       "      <td>506.0</td>\n",
       "      <td>506.0</td>\n",
       "      <td>506.1</td>\n",
       "      <td>506.4</td>\n",
       "      <td>506.4</td>\n",
       "      <td>506.7</td>\n",
       "      <td>506.9</td>\n",
       "    </tr>\n",
       "  </tbody>\n",
       "</table>\n",
       "</div>"
      ],
      "text/plain": [
       "                       Municipio  AreaKm2  Desmatado2011  Desmatado2012  \\\n",
       "CodIbge                                                                   \n",
       "2114007                  Zé Doca     2438         2003.3         2005.1   \n",
       "2113009          Vitorino Freire     1209         1166.3         1166.3   \n",
       "2112902        Vitória do Mearim      736          240.1          240.5   \n",
       "2112852  Vila Nova dos Martírios     1196          966.7          969.1   \n",
       "2112803                    Viana     1176          503.7          503.9   \n",
       "\n",
       "         Desmatado2013  Desmatado2014  Desmatado2015  Desmatado2016  \\\n",
       "CodIbge                                                               \n",
       "2114007         2009.9         2016.0         2016.8         2019.2   \n",
       "2113009         1166.3         1166.3         1166.3         1166.3   \n",
       "2112902          241.9          241.9          241.9          242.1   \n",
       "2112852          969.5          971.4          971.7          971.9   \n",
       "2112803          505.8          506.0          506.0          506.1   \n",
       "\n",
       "         Desmatado2017  Desmatado2018  Desmatado2019  Desmatado2020  \n",
       "CodIbge                                                              \n",
       "2114007         2019.9         2020.5         2021.6         2022.6  \n",
       "2113009         1166.3         1166.3         1166.3         1166.3  \n",
       "2112902          242.8          242.8          242.9          244.3  \n",
       "2112852          973.0          973.7          974.3          974.8  \n",
       "2112803          506.4          506.4          506.7          506.9  "
      ]
     },
     "execution_count": 17,
     "metadata": {},
     "output_type": "execute_result"
    }
   ],
   "source": [
    "desmatamento.head()"
   ]
  },
  {
   "cell_type": "code",
   "execution_count": null,
   "id": "3c4a4229",
   "metadata": {},
   "outputs": [],
   "source": []
  },
  {
   "cell_type": "code",
   "execution_count": null,
   "id": "18295810",
   "metadata": {},
   "outputs": [],
   "source": []
  }
 ],
 "metadata": {
  "kernelspec": {
   "display_name": "Python 3",
   "language": "python",
   "name": "python3"
  },
  "language_info": {
   "codemirror_mode": {
    "name": "ipython",
    "version": 3
   },
   "file_extension": ".py",
   "mimetype": "text/x-python",
   "name": "python",
   "nbconvert_exporter": "python",
   "pygments_lexer": "ipython3",
   "version": "3.8.8"
  }
 },
 "nbformat": 4,
 "nbformat_minor": 5
}
