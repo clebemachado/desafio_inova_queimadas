{
 "cells": [
  {
   "cell_type": "code",
   "execution_count": 1,
   "id": "03b46ef5",
   "metadata": {},
   "outputs": [],
   "source": [
    "import pandas as pd\n",
    "import plotly.express as px\n",
    "import plotly.graph_objects as go\n"
   ]
  },
  {
   "cell_type": "markdown",
   "id": "167c3311",
   "metadata": {},
   "source": [
    "### Desmatamento terras indigenas "
   ]
  },
  {
   "cell_type": "code",
   "execution_count": 25,
   "id": "6da3124f",
   "metadata": {},
   "outputs": [],
   "source": [
    "terras_indigenas = pd.read_csv(\"Dados/dados_terras_indigenas_incendio_2011_2020.csv\")"
   ]
  },
  {
   "cell_type": "code",
   "execution_count": 35,
   "id": "4d92c290",
   "metadata": {},
   "outputs": [],
   "source": [
    "terras_indigenas_selecionadas = terras_indigenas.loc[:, [\"Campo\", \"2011\", \"2012\", \"2013\", \"2014\", \"2015\", \"2016\", \"2017\", \"2018\", \"2019\", \"2020\"]]"
   ]
  },
  {
   "cell_type": "code",
   "execution_count": 64,
   "id": "11fd08c3",
   "metadata": {},
   "outputs": [
    {
     "data": {
      "text/html": [
       "<div>\n",
       "<style scoped>\n",
       "    .dataframe tbody tr th:only-of-type {\n",
       "        vertical-align: middle;\n",
       "    }\n",
       "\n",
       "    .dataframe tbody tr th {\n",
       "        vertical-align: top;\n",
       "    }\n",
       "\n",
       "    .dataframe thead th {\n",
       "        text-align: right;\n",
       "    }\n",
       "</style>\n",
       "<table border=\"1\" class=\"dataframe\">\n",
       "  <thead>\n",
       "    <tr style=\"text-align: right;\">\n",
       "      <th></th>\n",
       "      <th>Campo</th>\n",
       "      <th>2011</th>\n",
       "      <th>Porcentagem do Total de Focos 2011</th>\n",
       "      <th>2012</th>\n",
       "      <th>Porcentagem do Total de Focos 2012</th>\n",
       "      <th>2013</th>\n",
       "      <th>Porcentagem do Total de Focos 2013</th>\n",
       "      <th>2014</th>\n",
       "      <th>Porcentagem do Total de Focos 2014</th>\n",
       "      <th>2015</th>\n",
       "      <th>...</th>\n",
       "      <th>2016</th>\n",
       "      <th>Porcentagem do Total de Focos 2016</th>\n",
       "      <th>2017</th>\n",
       "      <th>Porcentagem do Total de Focos 2017</th>\n",
       "      <th>2018</th>\n",
       "      <th>Porcentagem do Total de Focos 2018</th>\n",
       "      <th>2019</th>\n",
       "      <th>Porcentagem do Total de Focos 2019</th>\n",
       "      <th>2020</th>\n",
       "      <th>Porcentagem do Total de Focos 2020</th>\n",
       "    </tr>\n",
       "  </thead>\n",
       "  <tbody>\n",
       "    <tr>\n",
       "      <th>0</th>\n",
       "      <td>PORQUINHOS DOS CANELA-APÃNJEKRA (DECLARADA)</td>\n",
       "      <td>669.0</td>\n",
       "      <td>28.60%</td>\n",
       "      <td>5855</td>\n",
       "      <td>11.56%</td>\n",
       "      <td>2464.0</td>\n",
       "      <td>20.77%</td>\n",
       "      <td>3736.0</td>\n",
       "      <td>12.59%</td>\n",
       "      <td>4829.0</td>\n",
       "      <td>...</td>\n",
       "      <td>2388.0</td>\n",
       "      <td>8.62%</td>\n",
       "      <td>7213.0</td>\n",
       "      <td>12.80%</td>\n",
       "      <td>2267</td>\n",
       "      <td>17.60%</td>\n",
       "      <td>5173</td>\n",
       "      <td>17.76%</td>\n",
       "      <td>4112</td>\n",
       "      <td>17.86%</td>\n",
       "    </tr>\n",
       "    <tr>\n",
       "      <th>1</th>\n",
       "      <td>KANELA (REGULARIZADA)</td>\n",
       "      <td>316.0</td>\n",
       "      <td>13.51%</td>\n",
       "      <td>2191</td>\n",
       "      <td>4.33%</td>\n",
       "      <td>1436.0</td>\n",
       "      <td>12.10%</td>\n",
       "      <td>2207.0</td>\n",
       "      <td>7.44%</td>\n",
       "      <td>2122.0</td>\n",
       "      <td>...</td>\n",
       "      <td>1504.0</td>\n",
       "      <td>5.43%</td>\n",
       "      <td>2551.0</td>\n",
       "      <td>4.53%</td>\n",
       "      <td>1553</td>\n",
       "      <td>12.05%</td>\n",
       "      <td>3280</td>\n",
       "      <td>11.26%</td>\n",
       "      <td>2926</td>\n",
       "      <td>12.71%</td>\n",
       "    </tr>\n",
       "    <tr>\n",
       "      <th>2</th>\n",
       "      <td>AWA (REGULARIZADA)</td>\n",
       "      <td>221.0</td>\n",
       "      <td>9.45%</td>\n",
       "      <td>2045</td>\n",
       "      <td>4.04%</td>\n",
       "      <td>594.0</td>\n",
       "      <td>5.01%</td>\n",
       "      <td>604.0</td>\n",
       "      <td>2.04%</td>\n",
       "      <td>3031.0</td>\n",
       "      <td>...</td>\n",
       "      <td>243.0</td>\n",
       "      <td>0.88%</td>\n",
       "      <td>812.0</td>\n",
       "      <td>1.44%</td>\n",
       "      <td>213</td>\n",
       "      <td>1.65%</td>\n",
       "      <td>341</td>\n",
       "      <td>1.17%</td>\n",
       "      <td>949</td>\n",
       "      <td>4.12%</td>\n",
       "    </tr>\n",
       "    <tr>\n",
       "      <th>3</th>\n",
       "      <td>KANELA MEMORTUMRÉ (DELIMITADA)</td>\n",
       "      <td>200.0</td>\n",
       "      <td>8.55%</td>\n",
       "      <td>1773</td>\n",
       "      <td>3.50%</td>\n",
       "      <td>1131.0</td>\n",
       "      <td>9.53%</td>\n",
       "      <td>1301.0</td>\n",
       "      <td>4.38%</td>\n",
       "      <td>1402.0</td>\n",
       "      <td>...</td>\n",
       "      <td>838.0</td>\n",
       "      <td>3.02%</td>\n",
       "      <td>1809.0</td>\n",
       "      <td>3.21%</td>\n",
       "      <td>809</td>\n",
       "      <td>6.28%</td>\n",
       "      <td>2024</td>\n",
       "      <td>6.95%</td>\n",
       "      <td>1984</td>\n",
       "      <td>8.62%</td>\n",
       "    </tr>\n",
       "    <tr>\n",
       "      <th>4</th>\n",
       "      <td>BACURIZINHO (DECLARADA)</td>\n",
       "      <td>160.0</td>\n",
       "      <td>6.84%</td>\n",
       "      <td>7076</td>\n",
       "      <td>13.97%</td>\n",
       "      <td>1158.0</td>\n",
       "      <td>9.76%</td>\n",
       "      <td>6746.0</td>\n",
       "      <td>22.74%</td>\n",
       "      <td>3631.0</td>\n",
       "      <td>...</td>\n",
       "      <td>3476.0</td>\n",
       "      <td>12.54%</td>\n",
       "      <td>7861.0</td>\n",
       "      <td>13.95%</td>\n",
       "      <td>909</td>\n",
       "      <td>7.06%</td>\n",
       "      <td>2456</td>\n",
       "      <td>8.43%</td>\n",
       "      <td>946</td>\n",
       "      <td>4.11%</td>\n",
       "    </tr>\n",
       "  </tbody>\n",
       "</table>\n",
       "<p>5 rows × 21 columns</p>\n",
       "</div>"
      ],
      "text/plain": [
       "                                         Campo   2011  \\\n",
       "0  PORQUINHOS DOS CANELA-APÃNJEKRA (DECLARADA)  669.0   \n",
       "1                        KANELA (REGULARIZADA)  316.0   \n",
       "2                           AWA (REGULARIZADA)  221.0   \n",
       "3               KANELA MEMORTUMRÉ (DELIMITADA)  200.0   \n",
       "4                      BACURIZINHO (DECLARADA)  160.0   \n",
       "\n",
       "  Porcentagem do Total de Focos 2011  2012 Porcentagem do Total de Focos 2012  \\\n",
       "0                             28.60%  5855                             11.56%   \n",
       "1                             13.51%  2191                              4.33%   \n",
       "2                              9.45%  2045                              4.04%   \n",
       "3                              8.55%  1773                              3.50%   \n",
       "4                              6.84%  7076                             13.97%   \n",
       "\n",
       "     2013 Porcentagem do Total de Focos 2013    2014  \\\n",
       "0  2464.0                             20.77%  3736.0   \n",
       "1  1436.0                             12.10%  2207.0   \n",
       "2   594.0                              5.01%   604.0   \n",
       "3  1131.0                              9.53%  1301.0   \n",
       "4  1158.0                              9.76%  6746.0   \n",
       "\n",
       "  Porcentagem do Total de Focos 2014    2015  ...    2016  \\\n",
       "0                             12.59%  4829.0  ...  2388.0   \n",
       "1                              7.44%  2122.0  ...  1504.0   \n",
       "2                              2.04%  3031.0  ...   243.0   \n",
       "3                              4.38%  1402.0  ...   838.0   \n",
       "4                             22.74%  3631.0  ...  3476.0   \n",
       "\n",
       "   Porcentagem do Total de Focos 2016    2017  \\\n",
       "0                               8.62%  7213.0   \n",
       "1                               5.43%  2551.0   \n",
       "2                               0.88%   812.0   \n",
       "3                               3.02%  1809.0   \n",
       "4                              12.54%  7861.0   \n",
       "\n",
       "   Porcentagem do Total de Focos 2017  2018  \\\n",
       "0                              12.80%  2267   \n",
       "1                               4.53%  1553   \n",
       "2                               1.44%   213   \n",
       "3                               3.21%   809   \n",
       "4                              13.95%   909   \n",
       "\n",
       "   Porcentagem do Total de Focos 2018  2019  \\\n",
       "0                              17.60%  5173   \n",
       "1                              12.05%  3280   \n",
       "2                               1.65%   341   \n",
       "3                               6.28%  2024   \n",
       "4                               7.06%  2456   \n",
       "\n",
       "   Porcentagem do Total de Focos 2019  2020  \\\n",
       "0                              17.76%  4112   \n",
       "1                              11.26%  2926   \n",
       "2                               1.17%   949   \n",
       "3                               6.95%  1984   \n",
       "4                               8.43%   946   \n",
       "\n",
       "   Porcentagem do Total de Focos 2020  \n",
       "0                              17.86%  \n",
       "1                              12.71%  \n",
       "2                               4.12%  \n",
       "3                               8.62%  \n",
       "4                               4.11%  \n",
       "\n",
       "[5 rows x 21 columns]"
      ]
     },
     "execution_count": 64,
     "metadata": {},
     "output_type": "execute_result"
    }
   ],
   "source": [
    "terras_indigenas.head()"
   ]
  },
  {
   "cell_type": "code",
   "execution_count": 38,
   "id": "b265cc7a",
   "metadata": {},
   "outputs": [
    {
     "data": {
      "text/plain": [
       "0     PORQUINHOS DOS CANELA-APÃNJEKRA (DECLARADA)\n",
       "1                           KANELA (REGULARIZADA)\n",
       "2                              AWA (REGULARIZADA)\n",
       "3                  KANELA MEMORTUMRÉ (DELIMITADA)\n",
       "4                         BACURIZINHO (DECLARADA)\n",
       "5                     ALTO TURIAÇU (REGULARIZADA)\n",
       "6                        ARARIBOIA (REGULARIZADA)\n",
       "7             CANA BRAVA/GUAJAJARA (REGULARIZADA)\n",
       "8                             KRIKA(REGULARIZADA)\n",
       "9                       PORQUINHOS (REGULARIZADA)\n",
       "10                     BACURIZINHO (REGULARIZADA)\n",
       "11                            CARU (REGULARIZADA)\n",
       "12                      GOVERNADOR (REGULARIZADA)\n",
       "13                     RIO PINDARÉ (REGULARIZADA)\n",
       "14                        KRENYÊ (ENCAMINHADA RI)\n",
       "15                     URUCU/JURUÁ (REGULARIZADA)\n",
       "16                        RODEADOR (REGULARIZADA)\n",
       "17                  LAGOA COMPRIDA (REGULARIZADA)\n",
       "18              GERALDA TOCO PRETO (REGULARIZADA)\n",
       "19                    MORRO BRANCO (REGULARIZADA)\n",
       "Name: Campo, dtype: object"
      ]
     },
     "execution_count": 38,
     "metadata": {},
     "output_type": "execute_result"
    }
   ],
   "source": [
    "terras_indigenas.Campo"
   ]
  },
  {
   "cell_type": "markdown",
   "id": "9802caef",
   "metadata": {},
   "source": [
    "Foi utilizado o site https://terrasindigenas.org.br/ para pegar todas as cidades que fazem fronteiras com as terras indígenas."
   ]
  },
  {
   "cell_type": "code",
   "execution_count": 51,
   "id": "93d769dc",
   "metadata": {},
   "outputs": [],
   "source": [
    "terras_indigenas_selecionadas = {\"KANELA MEMORTUMRÉ\", \"ALTO TURIAÇU\", \"ARARIBOIA\", \"CANA BRAVA/GUAJAJARA\", \"KRIKA\", \"PORQUINHOS\",\n",
    "                                \"BACURIZINHO\", \"CARU\", \"GOVERNADOR\", \"RIO PINDARÉ\", \"URUCU/JURUÁ\", \"RODEADOR\", \"LAGOA COMPRIDA\",\n",
    "                                \"GERALDA TOCO PRETO\", \"MORRO BRANCO\",\n",
    "                                }"
   ]
  },
  {
   "cell_type": "code",
   "execution_count": 47,
   "id": "ee63c5f0",
   "metadata": {},
   "outputs": [],
   "source": [
    "cidades_listas = {\"Bom Jardim\", \"Centro Novo do Maranhão\", \"Governador Newton Bello\", \"Nova Olinda do Maranhão\", \n",
    "                  \"São João do Carú\", \"Zé Doca\", 'Araguanã', \"Centro do Guilherme\", \"Centro Novo do Maranhão\", \"Maranhãozinho\",\n",
    "                 \"Nova Olinda do Maranhão\", \"Paragominas\", \"Santa Luzia do Paruá\", \"Zé Doca\", \"Amarante do Maranhão\",\n",
    "                  \"Arame\", \"Bom Jesus das Selvas\", \"Buriticupu\", \"Grajaú\", \"Santa Luzia\", \"Barra do Corda\", \"Grajaú\",\n",
    "                  \"Jenipapo dos Vieiras\", \"Amarante do Maranhão\", \"Lajeado Novo\", \"Montes Altos\", \"Ribamar Fiquene\", \"Sítio Novo\",\n",
    "                  \"Barra do Corda\", \"Fernando Falcão\", \"Grajaú\", \"Bom Jardim\", \"São João do Carú\", \"Amarante do Maranhão\", \"Bom Jardim\",\n",
    "                  \"Monção\", \"Grajaú\", \"Itaipava do Grajaú\", \"Barra do Corda\", \"Itaipava do Grajaú\", \"Jenipapo dos Vieiras\", \"Arame\",\n",
    "                  \"Itaipava do Grajaú\",  \"Grajaú\"\n",
    "                 }"
   ]
  },
  {
   "cell_type": "code",
   "execution_count": 56,
   "id": "5799cf72",
   "metadata": {},
   "outputs": [
    {
     "data": {
      "text/plain": [
       "{'Amarante do Maranhão',\n",
       " 'Araguanã',\n",
       " 'Arame',\n",
       " 'Barra do Corda',\n",
       " 'Bom Jardim',\n",
       " 'Bom Jesus das Selvas',\n",
       " 'Buriticupu',\n",
       " 'Centro Novo do Maranhão',\n",
       " 'Centro do Guilherme',\n",
       " 'Fernando Falcão',\n",
       " 'Governador Newton Bello',\n",
       " 'Grajaú',\n",
       " 'Itaipava do Grajaú',\n",
       " 'Jenipapo dos Vieiras',\n",
       " 'Lajeado Novo',\n",
       " 'Maranhãozinho',\n",
       " 'Montes Altos',\n",
       " 'Monção',\n",
       " 'Nova Olinda do Maranhão',\n",
       " 'Paragominas',\n",
       " 'Ribamar Fiquene',\n",
       " 'Santa Luzia',\n",
       " 'Santa Luzia do Paruá',\n",
       " 'São João do Carú',\n",
       " 'Sítio Novo',\n",
       " 'Zé Doca'}"
      ]
     },
     "execution_count": 56,
     "metadata": {},
     "output_type": "execute_result"
    }
   ],
   "source": [
    "cidades_listas"
   ]
  },
  {
   "cell_type": "code",
   "execution_count": null,
   "id": "45d0c83b",
   "metadata": {},
   "outputs": [],
   "source": []
  },
  {
   "cell_type": "markdown",
   "id": "00ff8b64",
   "metadata": {},
   "source": [
    "### Lendo dados gerais"
   ]
  },
  {
   "cell_type": "code",
   "execution_count": 24,
   "id": "5736503c",
   "metadata": {},
   "outputs": [],
   "source": [
    "area_total_produzida = pd.read_csv(\"Dados_Tratados/area_plantada_total.csv\")\n",
    "focos_queimadas = pd.read_csv(\"Dados_Tratados/focos_queimadas_2011_2020.csv\", sep=\";\")\n",
    "desmatamento_total = pd.read_csv(\"Dados_Tratados/desmatamento_2011_2020.csv\")"
   ]
  },
  {
   "cell_type": "code",
   "execution_count": 71,
   "id": "c4ef9447",
   "metadata": {},
   "outputs": [
    {
     "data": {
      "text/html": [
       "<div>\n",
       "<style scoped>\n",
       "    .dataframe tbody tr th:only-of-type {\n",
       "        vertical-align: middle;\n",
       "    }\n",
       "\n",
       "    .dataframe tbody tr th {\n",
       "        vertical-align: top;\n",
       "    }\n",
       "\n",
       "    .dataframe thead th {\n",
       "        text-align: right;\n",
       "    }\n",
       "</style>\n",
       "<table border=\"1\" class=\"dataframe\">\n",
       "  <thead>\n",
       "    <tr style=\"text-align: right;\">\n",
       "      <th></th>\n",
       "      <th>Cidades</th>\n",
       "      <th>total_2011</th>\n",
       "      <th>total_2012</th>\n",
       "      <th>total_2013</th>\n",
       "      <th>total_2014</th>\n",
       "      <th>total_2015</th>\n",
       "      <th>total_2016</th>\n",
       "      <th>total_2017</th>\n",
       "      <th>total_2018</th>\n",
       "      <th>total_2019</th>\n",
       "      <th>total_2020</th>\n",
       "    </tr>\n",
       "  </thead>\n",
       "  <tbody>\n",
       "    <tr>\n",
       "      <th>0</th>\n",
       "      <td>Açailândia</td>\n",
       "      <td>4131</td>\n",
       "      <td>3625</td>\n",
       "      <td>7697</td>\n",
       "      <td>10287</td>\n",
       "      <td>14886</td>\n",
       "      <td>18621</td>\n",
       "      <td>26409</td>\n",
       "      <td>41521</td>\n",
       "      <td>54891</td>\n",
       "      <td>61287</td>\n",
       "    </tr>\n",
       "    <tr>\n",
       "      <th>1</th>\n",
       "      <td>Afonso Cunha</td>\n",
       "      <td>2323</td>\n",
       "      <td>2494</td>\n",
       "      <td>2511</td>\n",
       "      <td>2414</td>\n",
       "      <td>3101</td>\n",
       "      <td>4855</td>\n",
       "      <td>6375</td>\n",
       "      <td>6681</td>\n",
       "      <td>7301</td>\n",
       "      <td>7992</td>\n",
       "    </tr>\n",
       "    <tr>\n",
       "      <th>2</th>\n",
       "      <td>Água Doce do Maranhão</td>\n",
       "      <td>3626</td>\n",
       "      <td>2477</td>\n",
       "      <td>3939</td>\n",
       "      <td>3846</td>\n",
       "      <td>2725</td>\n",
       "      <td>2226</td>\n",
       "      <td>1850</td>\n",
       "      <td>1209</td>\n",
       "      <td>850</td>\n",
       "      <td>835</td>\n",
       "    </tr>\n",
       "    <tr>\n",
       "      <th>3</th>\n",
       "      <td>Alcântara</td>\n",
       "      <td>2030</td>\n",
       "      <td>2183</td>\n",
       "      <td>1943</td>\n",
       "      <td>1975</td>\n",
       "      <td>1724</td>\n",
       "      <td>1468</td>\n",
       "      <td>1365</td>\n",
       "      <td>1145</td>\n",
       "      <td>1156</td>\n",
       "      <td>963</td>\n",
       "    </tr>\n",
       "    <tr>\n",
       "      <th>4</th>\n",
       "      <td>Aldeias Altas</td>\n",
       "      <td>12372</td>\n",
       "      <td>13184</td>\n",
       "      <td>12998</td>\n",
       "      <td>12463</td>\n",
       "      <td>12099</td>\n",
       "      <td>9440</td>\n",
       "      <td>9745</td>\n",
       "      <td>8918</td>\n",
       "      <td>9086</td>\n",
       "      <td>9221</td>\n",
       "    </tr>\n",
       "  </tbody>\n",
       "</table>\n",
       "</div>"
      ],
      "text/plain": [
       "                 Cidades  total_2011  total_2012  total_2013  total_2014  \\\n",
       "0             Açailândia        4131        3625        7697       10287   \n",
       "1           Afonso Cunha        2323        2494        2511        2414   \n",
       "2  Água Doce do Maranhão        3626        2477        3939        3846   \n",
       "3              Alcântara        2030        2183        1943        1975   \n",
       "4          Aldeias Altas       12372       13184       12998       12463   \n",
       "\n",
       "   total_2015  total_2016  total_2017  total_2018  total_2019  total_2020  \n",
       "0       14886       18621       26409       41521       54891       61287  \n",
       "1        3101        4855        6375        6681        7301        7992  \n",
       "2        2725        2226        1850        1209         850         835  \n",
       "3        1724        1468        1365        1145        1156         963  \n",
       "4       12099        9440        9745        8918        9086        9221  "
      ]
     },
     "execution_count": 71,
     "metadata": {},
     "output_type": "execute_result"
    }
   ],
   "source": [
    "area_total_produzida.head()"
   ]
  },
  {
   "cell_type": "code",
   "execution_count": 3,
   "id": "59ed85f2",
   "metadata": {},
   "outputs": [],
   "source": [
    "def plotar(df, cidade):\n",
    "    fig = go.Figure()\n",
    "    fig.add_trace(go.Scatter(x=df.Ano, y=df.Producao,\n",
    "                        name='Produção / 1000'))\n",
    "    fig.add_trace(go.Scatter(x=df.Ano, y=df.Focos,\n",
    "                        name='Focos'))\n",
    "    fig.add_trace(go.Scatter(x=df.Ano, y=df.Desmatamento,\n",
    "                        name='Desmatamento/10'))\n",
    "    fig.update_layout(title=f'Produção x Queimadas no Município de {cidade} no período de 2011-2020',\n",
    "                       xaxis_title='Ano',\n",
    "                       yaxis_title='Quantidade')\n",
    "    fig.show()\n",
    "    \n",
    "def getCidade(cidade:str):\n",
    "    prod = area_total_produzida[area_total_produzida.Cidades == cidade]\n",
    "    foc = focos_queimadas[focos_queimadas.Cidades == cidade + \" \"]\n",
    "    desm = desmatamento_total[desmatamento_total.Municipio == cidade]\n",
    "    df = pd.DataFrame({\"Ano\": foc.columns.to_list()[1:], \n",
    "                       \"Producao\": prod.iloc[:, 1:].values[0]/100,\n",
    "                       \"Focos\": foc.iloc[:, 1:].values[0],\n",
    "                       \"Desmatamento\": desm.iloc[:, 3:].values[0]/10\n",
    "    })\n",
    "    return df\n"
   ]
  },
  {
   "cell_type": "code",
   "execution_count": null,
   "id": "bcc66fc3",
   "metadata": {},
   "outputs": [],
   "source": []
  },
  {
   "cell_type": "code",
   "execution_count": 74,
   "id": "a239e776",
   "metadata": {},
   "outputs": [],
   "source": [
    "vitorino = getCidade(\"Bacabal\")"
   ]
  },
  {
   "cell_type": "code",
   "execution_count": 75,
   "id": "49854590",
   "metadata": {},
   "outputs": [
    {
     "data": {
      "text/html": [
       "<div>\n",
       "<style scoped>\n",
       "    .dataframe tbody tr th:only-of-type {\n",
       "        vertical-align: middle;\n",
       "    }\n",
       "\n",
       "    .dataframe tbody tr th {\n",
       "        vertical-align: top;\n",
       "    }\n",
       "\n",
       "    .dataframe thead th {\n",
       "        text-align: right;\n",
       "    }\n",
       "</style>\n",
       "<table border=\"1\" class=\"dataframe\">\n",
       "  <thead>\n",
       "    <tr style=\"text-align: right;\">\n",
       "      <th></th>\n",
       "      <th>Ano</th>\n",
       "      <th>Producao</th>\n",
       "      <th>Focos</th>\n",
       "      <th>Desmatamento</th>\n",
       "    </tr>\n",
       "  </thead>\n",
       "  <tbody>\n",
       "    <tr>\n",
       "      <th>0</th>\n",
       "      <td>2011</td>\n",
       "      <td>96.02</td>\n",
       "      <td>65</td>\n",
       "      <td>120.25</td>\n",
       "    </tr>\n",
       "    <tr>\n",
       "      <th>1</th>\n",
       "      <td>2012</td>\n",
       "      <td>103.18</td>\n",
       "      <td>83.0</td>\n",
       "      <td>120.25</td>\n",
       "    </tr>\n",
       "    <tr>\n",
       "      <th>2</th>\n",
       "      <td>2013</td>\n",
       "      <td>86.40</td>\n",
       "      <td>60.0</td>\n",
       "      <td>120.25</td>\n",
       "    </tr>\n",
       "    <tr>\n",
       "      <th>3</th>\n",
       "      <td>2014</td>\n",
       "      <td>87.27</td>\n",
       "      <td>58.0</td>\n",
       "      <td>120.25</td>\n",
       "    </tr>\n",
       "    <tr>\n",
       "      <th>4</th>\n",
       "      <td>2015</td>\n",
       "      <td>97.14</td>\n",
       "      <td>56.0</td>\n",
       "      <td>120.25</td>\n",
       "    </tr>\n",
       "  </tbody>\n",
       "</table>\n",
       "</div>"
      ],
      "text/plain": [
       "    Ano  Producao Focos  Desmatamento\n",
       "0  2011     96.02    65        120.25\n",
       "1  2012    103.18  83.0        120.25\n",
       "2  2013     86.40  60.0        120.25\n",
       "3  2014     87.27  58.0        120.25\n",
       "4  2015     97.14  56.0        120.25"
      ]
     },
     "execution_count": 75,
     "metadata": {},
     "output_type": "execute_result"
    }
   ],
   "source": [
    "vitorino.head()"
   ]
  },
  {
   "cell_type": "code",
   "execution_count": 76,
   "id": "36ca0b82",
   "metadata": {},
   "outputs": [
    {
     "data": {
      "application/vnd.plotly.v1+json": {
       "config": {
        "plotlyServerURL": "https://plot.ly"
       },
       "data": [
        {
         "name": "Produção / 1000",
         "type": "scatter",
         "x": [
          "2011",
          "2012",
          "2013",
          "2014",
          "2015",
          "2016",
          "2017",
          "2018",
          "2019",
          "2020"
         ],
         "y": [
          96.02,
          103.18,
          86.4,
          87.27,
          97.14,
          34.52,
          31.65,
          23.1,
          25.5,
          26.2
         ]
        },
        {
         "name": "Focos",
         "type": "scatter",
         "x": [
          "2011",
          "2012",
          "2013",
          "2014",
          "2015",
          "2016",
          "2017",
          "2018",
          "2019",
          "2020"
         ],
         "y": [
          65,
          83,
          60,
          58,
          56,
          63,
          78,
          36,
          16,
          "87"
         ]
        },
        {
         "name": "Desmatamento/10",
         "type": "scatter",
         "x": [
          "2011",
          "2012",
          "2013",
          "2014",
          "2015",
          "2016",
          "2017",
          "2018",
          "2019",
          "2020"
         ],
         "y": [
          120.25,
          120.25,
          120.25,
          120.25,
          120.25,
          120.25,
          120.25,
          120.25,
          120.25,
          120.25
         ]
        }
       ],
       "layout": {
        "template": {
         "data": {
          "bar": [
           {
            "error_x": {
             "color": "#2a3f5f"
            },
            "error_y": {
             "color": "#2a3f5f"
            },
            "marker": {
             "line": {
              "color": "#E5ECF6",
              "width": 0.5
             },
             "pattern": {
              "fillmode": "overlay",
              "size": 10,
              "solidity": 0.2
             }
            },
            "type": "bar"
           }
          ],
          "barpolar": [
           {
            "marker": {
             "line": {
              "color": "#E5ECF6",
              "width": 0.5
             },
             "pattern": {
              "fillmode": "overlay",
              "size": 10,
              "solidity": 0.2
             }
            },
            "type": "barpolar"
           }
          ],
          "carpet": [
           {
            "aaxis": {
             "endlinecolor": "#2a3f5f",
             "gridcolor": "white",
             "linecolor": "white",
             "minorgridcolor": "white",
             "startlinecolor": "#2a3f5f"
            },
            "baxis": {
             "endlinecolor": "#2a3f5f",
             "gridcolor": "white",
             "linecolor": "white",
             "minorgridcolor": "white",
             "startlinecolor": "#2a3f5f"
            },
            "type": "carpet"
           }
          ],
          "choropleth": [
           {
            "colorbar": {
             "outlinewidth": 0,
             "ticks": ""
            },
            "type": "choropleth"
           }
          ],
          "contour": [
           {
            "colorbar": {
             "outlinewidth": 0,
             "ticks": ""
            },
            "colorscale": [
             [
              0,
              "#0d0887"
             ],
             [
              0.1111111111111111,
              "#46039f"
             ],
             [
              0.2222222222222222,
              "#7201a8"
             ],
             [
              0.3333333333333333,
              "#9c179e"
             ],
             [
              0.4444444444444444,
              "#bd3786"
             ],
             [
              0.5555555555555556,
              "#d8576b"
             ],
             [
              0.6666666666666666,
              "#ed7953"
             ],
             [
              0.7777777777777778,
              "#fb9f3a"
             ],
             [
              0.8888888888888888,
              "#fdca26"
             ],
             [
              1,
              "#f0f921"
             ]
            ],
            "type": "contour"
           }
          ],
          "contourcarpet": [
           {
            "colorbar": {
             "outlinewidth": 0,
             "ticks": ""
            },
            "type": "contourcarpet"
           }
          ],
          "heatmap": [
           {
            "colorbar": {
             "outlinewidth": 0,
             "ticks": ""
            },
            "colorscale": [
             [
              0,
              "#0d0887"
             ],
             [
              0.1111111111111111,
              "#46039f"
             ],
             [
              0.2222222222222222,
              "#7201a8"
             ],
             [
              0.3333333333333333,
              "#9c179e"
             ],
             [
              0.4444444444444444,
              "#bd3786"
             ],
             [
              0.5555555555555556,
              "#d8576b"
             ],
             [
              0.6666666666666666,
              "#ed7953"
             ],
             [
              0.7777777777777778,
              "#fb9f3a"
             ],
             [
              0.8888888888888888,
              "#fdca26"
             ],
             [
              1,
              "#f0f921"
             ]
            ],
            "type": "heatmap"
           }
          ],
          "heatmapgl": [
           {
            "colorbar": {
             "outlinewidth": 0,
             "ticks": ""
            },
            "colorscale": [
             [
              0,
              "#0d0887"
             ],
             [
              0.1111111111111111,
              "#46039f"
             ],
             [
              0.2222222222222222,
              "#7201a8"
             ],
             [
              0.3333333333333333,
              "#9c179e"
             ],
             [
              0.4444444444444444,
              "#bd3786"
             ],
             [
              0.5555555555555556,
              "#d8576b"
             ],
             [
              0.6666666666666666,
              "#ed7953"
             ],
             [
              0.7777777777777778,
              "#fb9f3a"
             ],
             [
              0.8888888888888888,
              "#fdca26"
             ],
             [
              1,
              "#f0f921"
             ]
            ],
            "type": "heatmapgl"
           }
          ],
          "histogram": [
           {
            "marker": {
             "pattern": {
              "fillmode": "overlay",
              "size": 10,
              "solidity": 0.2
             }
            },
            "type": "histogram"
           }
          ],
          "histogram2d": [
           {
            "colorbar": {
             "outlinewidth": 0,
             "ticks": ""
            },
            "colorscale": [
             [
              0,
              "#0d0887"
             ],
             [
              0.1111111111111111,
              "#46039f"
             ],
             [
              0.2222222222222222,
              "#7201a8"
             ],
             [
              0.3333333333333333,
              "#9c179e"
             ],
             [
              0.4444444444444444,
              "#bd3786"
             ],
             [
              0.5555555555555556,
              "#d8576b"
             ],
             [
              0.6666666666666666,
              "#ed7953"
             ],
             [
              0.7777777777777778,
              "#fb9f3a"
             ],
             [
              0.8888888888888888,
              "#fdca26"
             ],
             [
              1,
              "#f0f921"
             ]
            ],
            "type": "histogram2d"
           }
          ],
          "histogram2dcontour": [
           {
            "colorbar": {
             "outlinewidth": 0,
             "ticks": ""
            },
            "colorscale": [
             [
              0,
              "#0d0887"
             ],
             [
              0.1111111111111111,
              "#46039f"
             ],
             [
              0.2222222222222222,
              "#7201a8"
             ],
             [
              0.3333333333333333,
              "#9c179e"
             ],
             [
              0.4444444444444444,
              "#bd3786"
             ],
             [
              0.5555555555555556,
              "#d8576b"
             ],
             [
              0.6666666666666666,
              "#ed7953"
             ],
             [
              0.7777777777777778,
              "#fb9f3a"
             ],
             [
              0.8888888888888888,
              "#fdca26"
             ],
             [
              1,
              "#f0f921"
             ]
            ],
            "type": "histogram2dcontour"
           }
          ],
          "mesh3d": [
           {
            "colorbar": {
             "outlinewidth": 0,
             "ticks": ""
            },
            "type": "mesh3d"
           }
          ],
          "parcoords": [
           {
            "line": {
             "colorbar": {
              "outlinewidth": 0,
              "ticks": ""
             }
            },
            "type": "parcoords"
           }
          ],
          "pie": [
           {
            "automargin": true,
            "type": "pie"
           }
          ],
          "scatter": [
           {
            "marker": {
             "colorbar": {
              "outlinewidth": 0,
              "ticks": ""
             }
            },
            "type": "scatter"
           }
          ],
          "scatter3d": [
           {
            "line": {
             "colorbar": {
              "outlinewidth": 0,
              "ticks": ""
             }
            },
            "marker": {
             "colorbar": {
              "outlinewidth": 0,
              "ticks": ""
             }
            },
            "type": "scatter3d"
           }
          ],
          "scattercarpet": [
           {
            "marker": {
             "colorbar": {
              "outlinewidth": 0,
              "ticks": ""
             }
            },
            "type": "scattercarpet"
           }
          ],
          "scattergeo": [
           {
            "marker": {
             "colorbar": {
              "outlinewidth": 0,
              "ticks": ""
             }
            },
            "type": "scattergeo"
           }
          ],
          "scattergl": [
           {
            "marker": {
             "colorbar": {
              "outlinewidth": 0,
              "ticks": ""
             }
            },
            "type": "scattergl"
           }
          ],
          "scattermapbox": [
           {
            "marker": {
             "colorbar": {
              "outlinewidth": 0,
              "ticks": ""
             }
            },
            "type": "scattermapbox"
           }
          ],
          "scatterpolar": [
           {
            "marker": {
             "colorbar": {
              "outlinewidth": 0,
              "ticks": ""
             }
            },
            "type": "scatterpolar"
           }
          ],
          "scatterpolargl": [
           {
            "marker": {
             "colorbar": {
              "outlinewidth": 0,
              "ticks": ""
             }
            },
            "type": "scatterpolargl"
           }
          ],
          "scatterternary": [
           {
            "marker": {
             "colorbar": {
              "outlinewidth": 0,
              "ticks": ""
             }
            },
            "type": "scatterternary"
           }
          ],
          "surface": [
           {
            "colorbar": {
             "outlinewidth": 0,
             "ticks": ""
            },
            "colorscale": [
             [
              0,
              "#0d0887"
             ],
             [
              0.1111111111111111,
              "#46039f"
             ],
             [
              0.2222222222222222,
              "#7201a8"
             ],
             [
              0.3333333333333333,
              "#9c179e"
             ],
             [
              0.4444444444444444,
              "#bd3786"
             ],
             [
              0.5555555555555556,
              "#d8576b"
             ],
             [
              0.6666666666666666,
              "#ed7953"
             ],
             [
              0.7777777777777778,
              "#fb9f3a"
             ],
             [
              0.8888888888888888,
              "#fdca26"
             ],
             [
              1,
              "#f0f921"
             ]
            ],
            "type": "surface"
           }
          ],
          "table": [
           {
            "cells": {
             "fill": {
              "color": "#EBF0F8"
             },
             "line": {
              "color": "white"
             }
            },
            "header": {
             "fill": {
              "color": "#C8D4E3"
             },
             "line": {
              "color": "white"
             }
            },
            "type": "table"
           }
          ]
         },
         "layout": {
          "annotationdefaults": {
           "arrowcolor": "#2a3f5f",
           "arrowhead": 0,
           "arrowwidth": 1
          },
          "autotypenumbers": "strict",
          "coloraxis": {
           "colorbar": {
            "outlinewidth": 0,
            "ticks": ""
           }
          },
          "colorscale": {
           "diverging": [
            [
             0,
             "#8e0152"
            ],
            [
             0.1,
             "#c51b7d"
            ],
            [
             0.2,
             "#de77ae"
            ],
            [
             0.3,
             "#f1b6da"
            ],
            [
             0.4,
             "#fde0ef"
            ],
            [
             0.5,
             "#f7f7f7"
            ],
            [
             0.6,
             "#e6f5d0"
            ],
            [
             0.7,
             "#b8e186"
            ],
            [
             0.8,
             "#7fbc41"
            ],
            [
             0.9,
             "#4d9221"
            ],
            [
             1,
             "#276419"
            ]
           ],
           "sequential": [
            [
             0,
             "#0d0887"
            ],
            [
             0.1111111111111111,
             "#46039f"
            ],
            [
             0.2222222222222222,
             "#7201a8"
            ],
            [
             0.3333333333333333,
             "#9c179e"
            ],
            [
             0.4444444444444444,
             "#bd3786"
            ],
            [
             0.5555555555555556,
             "#d8576b"
            ],
            [
             0.6666666666666666,
             "#ed7953"
            ],
            [
             0.7777777777777778,
             "#fb9f3a"
            ],
            [
             0.8888888888888888,
             "#fdca26"
            ],
            [
             1,
             "#f0f921"
            ]
           ],
           "sequentialminus": [
            [
             0,
             "#0d0887"
            ],
            [
             0.1111111111111111,
             "#46039f"
            ],
            [
             0.2222222222222222,
             "#7201a8"
            ],
            [
             0.3333333333333333,
             "#9c179e"
            ],
            [
             0.4444444444444444,
             "#bd3786"
            ],
            [
             0.5555555555555556,
             "#d8576b"
            ],
            [
             0.6666666666666666,
             "#ed7953"
            ],
            [
             0.7777777777777778,
             "#fb9f3a"
            ],
            [
             0.8888888888888888,
             "#fdca26"
            ],
            [
             1,
             "#f0f921"
            ]
           ]
          },
          "colorway": [
           "#636efa",
           "#EF553B",
           "#00cc96",
           "#ab63fa",
           "#FFA15A",
           "#19d3f3",
           "#FF6692",
           "#B6E880",
           "#FF97FF",
           "#FECB52"
          ],
          "font": {
           "color": "#2a3f5f"
          },
          "geo": {
           "bgcolor": "white",
           "lakecolor": "white",
           "landcolor": "#E5ECF6",
           "showlakes": true,
           "showland": true,
           "subunitcolor": "white"
          },
          "hoverlabel": {
           "align": "left"
          },
          "hovermode": "closest",
          "mapbox": {
           "style": "light"
          },
          "paper_bgcolor": "white",
          "plot_bgcolor": "#E5ECF6",
          "polar": {
           "angularaxis": {
            "gridcolor": "white",
            "linecolor": "white",
            "ticks": ""
           },
           "bgcolor": "#E5ECF6",
           "radialaxis": {
            "gridcolor": "white",
            "linecolor": "white",
            "ticks": ""
           }
          },
          "scene": {
           "xaxis": {
            "backgroundcolor": "#E5ECF6",
            "gridcolor": "white",
            "gridwidth": 2,
            "linecolor": "white",
            "showbackground": true,
            "ticks": "",
            "zerolinecolor": "white"
           },
           "yaxis": {
            "backgroundcolor": "#E5ECF6",
            "gridcolor": "white",
            "gridwidth": 2,
            "linecolor": "white",
            "showbackground": true,
            "ticks": "",
            "zerolinecolor": "white"
           },
           "zaxis": {
            "backgroundcolor": "#E5ECF6",
            "gridcolor": "white",
            "gridwidth": 2,
            "linecolor": "white",
            "showbackground": true,
            "ticks": "",
            "zerolinecolor": "white"
           }
          },
          "shapedefaults": {
           "line": {
            "color": "#2a3f5f"
           }
          },
          "ternary": {
           "aaxis": {
            "gridcolor": "white",
            "linecolor": "white",
            "ticks": ""
           },
           "baxis": {
            "gridcolor": "white",
            "linecolor": "white",
            "ticks": ""
           },
           "bgcolor": "#E5ECF6",
           "caxis": {
            "gridcolor": "white",
            "linecolor": "white",
            "ticks": ""
           }
          },
          "title": {
           "x": 0.05
          },
          "xaxis": {
           "automargin": true,
           "gridcolor": "white",
           "linecolor": "white",
           "ticks": "",
           "title": {
            "standoff": 15
           },
           "zerolinecolor": "white",
           "zerolinewidth": 2
          },
          "yaxis": {
           "automargin": true,
           "gridcolor": "white",
           "linecolor": "white",
           "ticks": "",
           "title": {
            "standoff": 15
           },
           "zerolinecolor": "white",
           "zerolinewidth": 2
          }
         }
        },
        "title": {
         "text": "Produção x Queimadas no Município de Sítio Novo no período de 2011-2020"
        },
        "xaxis": {
         "title": {
          "text": "Ano"
         }
        },
        "yaxis": {
         "title": {
          "text": "Quantidade"
         }
        }
       }
      },
      "text/html": [
       "<div>                            <div id=\"41f5e2fc-1597-4798-a449-f43ae78cbe4c\" class=\"plotly-graph-div\" style=\"height:525px; width:100%;\"></div>            <script type=\"text/javascript\">                require([\"plotly\"], function(Plotly) {                    window.PLOTLYENV=window.PLOTLYENV || {};                                    if (document.getElementById(\"41f5e2fc-1597-4798-a449-f43ae78cbe4c\")) {                    Plotly.newPlot(                        \"41f5e2fc-1597-4798-a449-f43ae78cbe4c\",                        [{\"name\":\"Produ\\u00e7\\u00e3o / 1000\",\"type\":\"scatter\",\"x\":[\"2011\",\"2012\",\"2013\",\"2014\",\"2015\",\"2016\",\"2017\",\"2018\",\"2019\",\"2020\"],\"y\":[96.02,103.18,86.4,87.27,97.14,34.52,31.65,23.1,25.5,26.2]},{\"name\":\"Focos\",\"type\":\"scatter\",\"x\":[\"2011\",\"2012\",\"2013\",\"2014\",\"2015\",\"2016\",\"2017\",\"2018\",\"2019\",\"2020\"],\"y\":[65,83.0,60.0,58.0,56.0,63.0,78.0,36.0,16.0,\"87\"]},{\"name\":\"Desmatamento/10\",\"type\":\"scatter\",\"x\":[\"2011\",\"2012\",\"2013\",\"2014\",\"2015\",\"2016\",\"2017\",\"2018\",\"2019\",\"2020\"],\"y\":[120.25,120.25,120.25,120.25,120.25,120.25,120.25,120.25,120.25,120.25]}],                        {\"template\":{\"data\":{\"bar\":[{\"error_x\":{\"color\":\"#2a3f5f\"},\"error_y\":{\"color\":\"#2a3f5f\"},\"marker\":{\"line\":{\"color\":\"#E5ECF6\",\"width\":0.5},\"pattern\":{\"fillmode\":\"overlay\",\"size\":10,\"solidity\":0.2}},\"type\":\"bar\"}],\"barpolar\":[{\"marker\":{\"line\":{\"color\":\"#E5ECF6\",\"width\":0.5},\"pattern\":{\"fillmode\":\"overlay\",\"size\":10,\"solidity\":0.2}},\"type\":\"barpolar\"}],\"carpet\":[{\"aaxis\":{\"endlinecolor\":\"#2a3f5f\",\"gridcolor\":\"white\",\"linecolor\":\"white\",\"minorgridcolor\":\"white\",\"startlinecolor\":\"#2a3f5f\"},\"baxis\":{\"endlinecolor\":\"#2a3f5f\",\"gridcolor\":\"white\",\"linecolor\":\"white\",\"minorgridcolor\":\"white\",\"startlinecolor\":\"#2a3f5f\"},\"type\":\"carpet\"}],\"choropleth\":[{\"colorbar\":{\"outlinewidth\":0,\"ticks\":\"\"},\"type\":\"choropleth\"}],\"contour\":[{\"colorbar\":{\"outlinewidth\":0,\"ticks\":\"\"},\"colorscale\":[[0.0,\"#0d0887\"],[0.1111111111111111,\"#46039f\"],[0.2222222222222222,\"#7201a8\"],[0.3333333333333333,\"#9c179e\"],[0.4444444444444444,\"#bd3786\"],[0.5555555555555556,\"#d8576b\"],[0.6666666666666666,\"#ed7953\"],[0.7777777777777778,\"#fb9f3a\"],[0.8888888888888888,\"#fdca26\"],[1.0,\"#f0f921\"]],\"type\":\"contour\"}],\"contourcarpet\":[{\"colorbar\":{\"outlinewidth\":0,\"ticks\":\"\"},\"type\":\"contourcarpet\"}],\"heatmap\":[{\"colorbar\":{\"outlinewidth\":0,\"ticks\":\"\"},\"colorscale\":[[0.0,\"#0d0887\"],[0.1111111111111111,\"#46039f\"],[0.2222222222222222,\"#7201a8\"],[0.3333333333333333,\"#9c179e\"],[0.4444444444444444,\"#bd3786\"],[0.5555555555555556,\"#d8576b\"],[0.6666666666666666,\"#ed7953\"],[0.7777777777777778,\"#fb9f3a\"],[0.8888888888888888,\"#fdca26\"],[1.0,\"#f0f921\"]],\"type\":\"heatmap\"}],\"heatmapgl\":[{\"colorbar\":{\"outlinewidth\":0,\"ticks\":\"\"},\"colorscale\":[[0.0,\"#0d0887\"],[0.1111111111111111,\"#46039f\"],[0.2222222222222222,\"#7201a8\"],[0.3333333333333333,\"#9c179e\"],[0.4444444444444444,\"#bd3786\"],[0.5555555555555556,\"#d8576b\"],[0.6666666666666666,\"#ed7953\"],[0.7777777777777778,\"#fb9f3a\"],[0.8888888888888888,\"#fdca26\"],[1.0,\"#f0f921\"]],\"type\":\"heatmapgl\"}],\"histogram\":[{\"marker\":{\"pattern\":{\"fillmode\":\"overlay\",\"size\":10,\"solidity\":0.2}},\"type\":\"histogram\"}],\"histogram2d\":[{\"colorbar\":{\"outlinewidth\":0,\"ticks\":\"\"},\"colorscale\":[[0.0,\"#0d0887\"],[0.1111111111111111,\"#46039f\"],[0.2222222222222222,\"#7201a8\"],[0.3333333333333333,\"#9c179e\"],[0.4444444444444444,\"#bd3786\"],[0.5555555555555556,\"#d8576b\"],[0.6666666666666666,\"#ed7953\"],[0.7777777777777778,\"#fb9f3a\"],[0.8888888888888888,\"#fdca26\"],[1.0,\"#f0f921\"]],\"type\":\"histogram2d\"}],\"histogram2dcontour\":[{\"colorbar\":{\"outlinewidth\":0,\"ticks\":\"\"},\"colorscale\":[[0.0,\"#0d0887\"],[0.1111111111111111,\"#46039f\"],[0.2222222222222222,\"#7201a8\"],[0.3333333333333333,\"#9c179e\"],[0.4444444444444444,\"#bd3786\"],[0.5555555555555556,\"#d8576b\"],[0.6666666666666666,\"#ed7953\"],[0.7777777777777778,\"#fb9f3a\"],[0.8888888888888888,\"#fdca26\"],[1.0,\"#f0f921\"]],\"type\":\"histogram2dcontour\"}],\"mesh3d\":[{\"colorbar\":{\"outlinewidth\":0,\"ticks\":\"\"},\"type\":\"mesh3d\"}],\"parcoords\":[{\"line\":{\"colorbar\":{\"outlinewidth\":0,\"ticks\":\"\"}},\"type\":\"parcoords\"}],\"pie\":[{\"automargin\":true,\"type\":\"pie\"}],\"scatter\":[{\"marker\":{\"colorbar\":{\"outlinewidth\":0,\"ticks\":\"\"}},\"type\":\"scatter\"}],\"scatter3d\":[{\"line\":{\"colorbar\":{\"outlinewidth\":0,\"ticks\":\"\"}},\"marker\":{\"colorbar\":{\"outlinewidth\":0,\"ticks\":\"\"}},\"type\":\"scatter3d\"}],\"scattercarpet\":[{\"marker\":{\"colorbar\":{\"outlinewidth\":0,\"ticks\":\"\"}},\"type\":\"scattercarpet\"}],\"scattergeo\":[{\"marker\":{\"colorbar\":{\"outlinewidth\":0,\"ticks\":\"\"}},\"type\":\"scattergeo\"}],\"scattergl\":[{\"marker\":{\"colorbar\":{\"outlinewidth\":0,\"ticks\":\"\"}},\"type\":\"scattergl\"}],\"scattermapbox\":[{\"marker\":{\"colorbar\":{\"outlinewidth\":0,\"ticks\":\"\"}},\"type\":\"scattermapbox\"}],\"scatterpolar\":[{\"marker\":{\"colorbar\":{\"outlinewidth\":0,\"ticks\":\"\"}},\"type\":\"scatterpolar\"}],\"scatterpolargl\":[{\"marker\":{\"colorbar\":{\"outlinewidth\":0,\"ticks\":\"\"}},\"type\":\"scatterpolargl\"}],\"scatterternary\":[{\"marker\":{\"colorbar\":{\"outlinewidth\":0,\"ticks\":\"\"}},\"type\":\"scatterternary\"}],\"surface\":[{\"colorbar\":{\"outlinewidth\":0,\"ticks\":\"\"},\"colorscale\":[[0.0,\"#0d0887\"],[0.1111111111111111,\"#46039f\"],[0.2222222222222222,\"#7201a8\"],[0.3333333333333333,\"#9c179e\"],[0.4444444444444444,\"#bd3786\"],[0.5555555555555556,\"#d8576b\"],[0.6666666666666666,\"#ed7953\"],[0.7777777777777778,\"#fb9f3a\"],[0.8888888888888888,\"#fdca26\"],[1.0,\"#f0f921\"]],\"type\":\"surface\"}],\"table\":[{\"cells\":{\"fill\":{\"color\":\"#EBF0F8\"},\"line\":{\"color\":\"white\"}},\"header\":{\"fill\":{\"color\":\"#C8D4E3\"},\"line\":{\"color\":\"white\"}},\"type\":\"table\"}]},\"layout\":{\"annotationdefaults\":{\"arrowcolor\":\"#2a3f5f\",\"arrowhead\":0,\"arrowwidth\":1},\"autotypenumbers\":\"strict\",\"coloraxis\":{\"colorbar\":{\"outlinewidth\":0,\"ticks\":\"\"}},\"colorscale\":{\"diverging\":[[0,\"#8e0152\"],[0.1,\"#c51b7d\"],[0.2,\"#de77ae\"],[0.3,\"#f1b6da\"],[0.4,\"#fde0ef\"],[0.5,\"#f7f7f7\"],[0.6,\"#e6f5d0\"],[0.7,\"#b8e186\"],[0.8,\"#7fbc41\"],[0.9,\"#4d9221\"],[1,\"#276419\"]],\"sequential\":[[0.0,\"#0d0887\"],[0.1111111111111111,\"#46039f\"],[0.2222222222222222,\"#7201a8\"],[0.3333333333333333,\"#9c179e\"],[0.4444444444444444,\"#bd3786\"],[0.5555555555555556,\"#d8576b\"],[0.6666666666666666,\"#ed7953\"],[0.7777777777777778,\"#fb9f3a\"],[0.8888888888888888,\"#fdca26\"],[1.0,\"#f0f921\"]],\"sequentialminus\":[[0.0,\"#0d0887\"],[0.1111111111111111,\"#46039f\"],[0.2222222222222222,\"#7201a8\"],[0.3333333333333333,\"#9c179e\"],[0.4444444444444444,\"#bd3786\"],[0.5555555555555556,\"#d8576b\"],[0.6666666666666666,\"#ed7953\"],[0.7777777777777778,\"#fb9f3a\"],[0.8888888888888888,\"#fdca26\"],[1.0,\"#f0f921\"]]},\"colorway\":[\"#636efa\",\"#EF553B\",\"#00cc96\",\"#ab63fa\",\"#FFA15A\",\"#19d3f3\",\"#FF6692\",\"#B6E880\",\"#FF97FF\",\"#FECB52\"],\"font\":{\"color\":\"#2a3f5f\"},\"geo\":{\"bgcolor\":\"white\",\"lakecolor\":\"white\",\"landcolor\":\"#E5ECF6\",\"showlakes\":true,\"showland\":true,\"subunitcolor\":\"white\"},\"hoverlabel\":{\"align\":\"left\"},\"hovermode\":\"closest\",\"mapbox\":{\"style\":\"light\"},\"paper_bgcolor\":\"white\",\"plot_bgcolor\":\"#E5ECF6\",\"polar\":{\"angularaxis\":{\"gridcolor\":\"white\",\"linecolor\":\"white\",\"ticks\":\"\"},\"bgcolor\":\"#E5ECF6\",\"radialaxis\":{\"gridcolor\":\"white\",\"linecolor\":\"white\",\"ticks\":\"\"}},\"scene\":{\"xaxis\":{\"backgroundcolor\":\"#E5ECF6\",\"gridcolor\":\"white\",\"gridwidth\":2,\"linecolor\":\"white\",\"showbackground\":true,\"ticks\":\"\",\"zerolinecolor\":\"white\"},\"yaxis\":{\"backgroundcolor\":\"#E5ECF6\",\"gridcolor\":\"white\",\"gridwidth\":2,\"linecolor\":\"white\",\"showbackground\":true,\"ticks\":\"\",\"zerolinecolor\":\"white\"},\"zaxis\":{\"backgroundcolor\":\"#E5ECF6\",\"gridcolor\":\"white\",\"gridwidth\":2,\"linecolor\":\"white\",\"showbackground\":true,\"ticks\":\"\",\"zerolinecolor\":\"white\"}},\"shapedefaults\":{\"line\":{\"color\":\"#2a3f5f\"}},\"ternary\":{\"aaxis\":{\"gridcolor\":\"white\",\"linecolor\":\"white\",\"ticks\":\"\"},\"baxis\":{\"gridcolor\":\"white\",\"linecolor\":\"white\",\"ticks\":\"\"},\"bgcolor\":\"#E5ECF6\",\"caxis\":{\"gridcolor\":\"white\",\"linecolor\":\"white\",\"ticks\":\"\"}},\"title\":{\"x\":0.05},\"xaxis\":{\"automargin\":true,\"gridcolor\":\"white\",\"linecolor\":\"white\",\"ticks\":\"\",\"title\":{\"standoff\":15},\"zerolinecolor\":\"white\",\"zerolinewidth\":2},\"yaxis\":{\"automargin\":true,\"gridcolor\":\"white\",\"linecolor\":\"white\",\"ticks\":\"\",\"title\":{\"standoff\":15},\"zerolinecolor\":\"white\",\"zerolinewidth\":2}}},\"title\":{\"text\":\"Produ\\u00e7\\u00e3o x Queimadas no Munic\\u00edpio de S\\u00edtio Novo no per\\u00edodo de 2011-2020\"},\"xaxis\":{\"title\":{\"text\":\"Ano\"}},\"yaxis\":{\"title\":{\"text\":\"Quantidade\"}}},                        {\"responsive\": true}                    ).then(function(){\n",
       "                            \n",
       "var gd = document.getElementById('41f5e2fc-1597-4798-a449-f43ae78cbe4c');\n",
       "var x = new MutationObserver(function (mutations, observer) {{\n",
       "        var display = window.getComputedStyle(gd).display;\n",
       "        if (!display || display === 'none') {{\n",
       "            console.log([gd, 'removed!']);\n",
       "            Plotly.purge(gd);\n",
       "            observer.disconnect();\n",
       "        }}\n",
       "}});\n",
       "\n",
       "// Listen for the removal of the full notebook cells\n",
       "var notebookContainer = gd.closest('#notebook-container');\n",
       "if (notebookContainer) {{\n",
       "    x.observe(notebookContainer, {childList: true});\n",
       "}}\n",
       "\n",
       "// Listen for the clearing of the current output cell\n",
       "var outputEl = gd.closest('.output');\n",
       "if (outputEl) {{\n",
       "    x.observe(outputEl, {childList: true});\n",
       "}}\n",
       "\n",
       "                        })                };                });            </script>        </div>"
      ]
     },
     "metadata": {},
     "output_type": "display_data"
    }
   ],
   "source": [
    "plotar(vitorino, \"Sítio Novo\")"
   ]
  },
  {
   "cell_type": "code",
   "execution_count": null,
   "id": "efd52d48",
   "metadata": {},
   "outputs": [],
   "source": []
  }
 ],
 "metadata": {
  "kernelspec": {
   "display_name": "Python 3",
   "language": "python",
   "name": "python3"
  },
  "language_info": {
   "codemirror_mode": {
    "name": "ipython",
    "version": 3
   },
   "file_extension": ".py",
   "mimetype": "text/x-python",
   "name": "python",
   "nbconvert_exporter": "python",
   "pygments_lexer": "ipython3",
   "version": "3.8.8"
  }
 },
 "nbformat": 4,
 "nbformat_minor": 5
}
