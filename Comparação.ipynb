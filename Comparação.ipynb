{
 "cells": [
  {
   "cell_type": "code",
   "execution_count": 1,
   "id": "6d5f4ad1",
   "metadata": {},
   "outputs": [],
   "source": [
    "import pandas as pd\n",
    "import plotly.express as px\n",
    "import plotly.graph_objects as go\n"
   ]
  },
  {
   "cell_type": "markdown",
   "id": "5e966ca7",
   "metadata": {},
   "source": [
    "### Desmatamento terras indigenas "
   ]
  },
  {
   "cell_type": "code",
   "execution_count": 2,
   "id": "7565698e",
   "metadata": {},
   "outputs": [],
   "source": [
    "terras_indigenas = pd.read_csv(\"Dados/dados_terras_indigenas_incendio_2011_2020.csv\")"
   ]
  },
  {
   "cell_type": "code",
   "execution_count": 3,
   "id": "27aae5ad",
   "metadata": {},
   "outputs": [],
   "source": [
    "terras_indigenas_selecionadas = terras_indigenas.loc[:, [\"Campo\", \"2011\", \"2012\", \"2013\", \"2014\", \"2015\", \"2016\", \"2017\", \"2018\", \"2019\", \"2020\"]]"
   ]
  },
  {
   "cell_type": "markdown",
   "id": "771f53e1",
   "metadata": {},
   "source": [
    "Foi utilizado o site https://terrasindigenas.org.br/ para pegar todas as cidades que fazem fronteiras com as terras indígenas."
   ]
  },
  {
   "cell_type": "code",
   "execution_count": 4,
   "id": "2c3ccde3",
   "metadata": {},
   "outputs": [],
   "source": [
    "cidades = {\n",
    "'Amarante do Maranhão',\n",
    " 'Arame',\n",
    " 'Barra do Corda',\n",
    " 'Bom Jardim',\n",
    " 'Bom Jesus das Selvas',\n",
    " 'Buriticupu',\n",
    " 'Fernando Falcão',\n",
    " 'Grajaú',\n",
    " 'Jenipapo dos Vieiras',\n",
    " 'Monção',\n",
    " 'Santa Luzia'}"
   ]
  },
  {
   "cell_type": "markdown",
   "id": "40867474",
   "metadata": {},
   "source": [
    "Amarante do Maranhão = Arroz; Milho; \n",
    "Arame = Arroz; Feijão; Mandioca; Milho;\n",
    "Barra do corda = Arroz; Feijão; Mandioca; Milho; \n",
    "Bom Jardim = Arroz; Feijao; Mandioca; Milho; Soja;\n",
    "Bom Jesus das Selvas = Arroz; Milho; Soja;\n",
    "Buriticupu = Arroz; Milho; Soja\n",
    "Fernando Falcão = Mandioca; Milho; Soja;\n",
    "Grajaú = Arroz; Milho; Soja\n",
    "Jenipapo dos Vieiras = Arroz; Milho;\n",
    "Monção = Mandioca; Milho;\n",
    "Santa Luzia = Arroz; Mandioca; Milho; Soja;"
   ]
  },
  {
   "cell_type": "markdown",
   "id": "8bb03ff6",
   "metadata": {},
   "source": [
    "### Lendo dados gerais"
   ]
  },
  {
   "cell_type": "code",
   "execution_count": 71,
   "id": "48489c35",
   "metadata": {},
   "outputs": [],
   "source": [
    "area_total_produzida = pd.read_csv(\"Dados_Tratados/area_colhida_total.csv\")\n",
    "focos_queimadas = pd.read_csv(\"Dados_Tratados/focos_queimadas_2011_2020.csv\", sep=\";\")\n",
    "desmatamento_total = pd.read_csv(\"Dados_Tratados/desmatamento_2011_2020.csv\")\n",
    "\n",
    "focos_queimadas[\"2020\"].replace(\"-\", 0, inplace=True)\n",
    "focos_queimadas[\"2020\"] = focos_queimadas[\"2020\"].astype(float)"
   ]
  },
  {
   "cell_type": "code",
   "execution_count": 72,
   "id": "e1bf0ad4",
   "metadata": {},
   "outputs": [],
   "source": [
    "area_abacaxi_produzida = pd.read_csv(\"Dados_Tratados/area_colhida_abacaxi.csv\")\n",
    "area_algodao_produzida = pd.read_csv(\"Dados_Tratados/area_colhida_algodao.csv\")\n",
    "area_arroz_produzida = pd.read_csv(\"Dados_Tratados/area_colhida_arroz.csv\")\n",
    "area_cana_produzida = pd.read_csv(\"Dados_Tratados/area_colhida_cana.csv\")\n",
    "area_feijao_produzida = pd.read_csv(\"Dados_Tratados/area_colhida_feijao.csv\")\n",
    "area_mandioca_produzida = pd.read_csv(\"Dados_Tratados/area_colhida_mandioca.csv\")\n",
    "area_milho_produzida = pd.read_csv(\"Dados_Tratados/area_colhida_milho.csv\")\n",
    "area_soja_produzida = pd.read_csv(\"Dados_Tratados/area_colhida_soja.csv\")\n",
    "area_sorgo_produzida = pd.read_csv(\"Dados_Tratados/area_colhida_sorgo.csv\")\n",
    "\n",
    "\n"
   ]
  },
  {
   "cell_type": "code",
   "execution_count": 113,
   "id": "91757a8e",
   "metadata": {},
   "outputs": [],
   "source": [
    "def plotar(df, cidade, plt1=False, plt2=False, plt3=False, plt4=False):\n",
    "    fig = go.Figure()\n",
    "    if (plt1):\n",
    "        fig.add_trace(go.Scatter(x=df.Ano, y=df.Arroz,\n",
    "                                 name='Arroz'))\n",
    "    if(plt2):\n",
    "        fig.add_trace(go.Scatter(x=df.Ano, y=df.Mandioca,\n",
    "                            name='Mandioca'))\n",
    "    if (plt3):\n",
    "        fig.add_trace(go.Scatter(x=df.Ano, y=df.Milho,\n",
    "                            name='Milho'))\n",
    "    if(plt4):\n",
    "        fig.add_trace(go.Scatter(x=df.Ano, y=df.Soja,\n",
    "                            name='Soja'))\n",
    "\n",
    "    fig.add_trace(go.Scatter(x=df.Ano, y=df.Focos,\n",
    "                        name='Focos'))\n",
    "    fig.add_trace(go.Scatter(x=df.Ano, y=df.Desmatamento,\n",
    "                        name='Desmatamento'))\n",
    "    \n",
    "    fig.update_layout(title=f'Produção x Queimadas no Município de {cidade} no período de 2011-2020',\n",
    "                       xaxis_title='Ano',\n",
    "                       yaxis_title='Quantidade')\n",
    "    fig.show()\n",
    "    \n",
    "def getCidade(cidade:str):\n",
    "    prod = area_total_produzida[area_total_produzida.Cidades == cidade]\n",
    "    prod_abacaxi = area_abacaxi_produzida[area_abacaxi_produzida.Cidades == cidade]\n",
    "    prod_algodao = area_algodao_produzida[area_algodao_produzida.Cidades == cidade]\n",
    "    prod_arroz = area_arroz_produzida[area_arroz_produzida.Cidades == cidade]\n",
    "    prod_cana = area_cana_produzida[area_cana_produzida.Cidades == cidade]\n",
    "    prod_feijao = area_feijao_produzida[area_feijao_produzida.Cidades == cidade]\n",
    "    prod_mandioca = area_mandioca_produzida[area_mandioca_produzida.Cidades == cidade]\n",
    "    prod_milho = area_milho_produzida[area_milho_produzida.Cidades == cidade]\n",
    "    prod_soja = area_soja_produzida[area_soja_produzida.Cidades == cidade]\n",
    "    prod_sorgo = area_sorgo_produzida[area_sorgo_produzida.Cidades == cidade]\n",
    "    foc = focos_queimadas[focos_queimadas.Cidades == cidade + \" \"]\n",
    "    desm = desmatamento_total[desmatamento_total.Municipio == cidade]\n",
    "    df = pd.DataFrame({\"Ano\": foc.columns.to_list()[1:], \n",
    "                       'Arroz': prod_arroz.iloc[:, 1:].values[0],\n",
    "                       'Mandioca': prod_mandioca.iloc[:, 1:].values[0],\n",
    "                       'Milho': prod_milho.iloc[:, 1:].values[0],\n",
    "                       'Soja': prod_soja.iloc[:, 1:].values[0],\n",
    "                       \"Focos\": foc.iloc[:, 1:].values[0],\n",
    "                       \"Desmatamento\": desm.iloc[:, 3:].values[0]\n",
    "    })\n",
    "    \n",
    "    df[\"Arroz\"] = df[\"Arroz\"].diff()\n",
    "    df[\"Mandioca\"] = df[\"Mandioca\"].diff()\n",
    "    df[\"Milho\"] = df[\"Milho\"].diff()\n",
    "    df[\"Soja\"] = df[\"Soja\"].diff()\n",
    "    df[\"Focos\"] = df[\"Focos\"].diff()\n",
    "    df[\"Desmatamento\"] = df[\"Desmatamento\"].diff()\n",
    "    return df\n"
   ]
  },
  {
   "cell_type": "code",
   "execution_count": null,
   "id": "8561c394",
   "metadata": {},
   "outputs": [],
   "source": [
    "cidades = {\n",
    "'Amarante do Maranhão',\n",
    " 'Arame',\n",
    " 'Barra do Corda',\n",
    " 'Bom Jardim',\n",
    " 'Bom Jesus das Selvas',\n",
    " 'Buriticupu',\n",
    " 'Fernando Falcão',\n",
    " 'Grajaú',\n",
    " 'Jenipapo dos Vieiras',\n",
    " 'Monção',\n",
    " 'Santa Luzia'}"
   ]
  },
  {
   "cell_type": "code",
   "execution_count": 135,
   "id": "c49bb664",
   "metadata": {},
   "outputs": [
    {
     "data": {
      "text/html": [
       "<div>\n",
       "<style scoped>\n",
       "    .dataframe tbody tr th:only-of-type {\n",
       "        vertical-align: middle;\n",
       "    }\n",
       "\n",
       "    .dataframe tbody tr th {\n",
       "        vertical-align: top;\n",
       "    }\n",
       "\n",
       "    .dataframe thead th {\n",
       "        text-align: right;\n",
       "    }\n",
       "</style>\n",
       "<table border=\"1\" class=\"dataframe\">\n",
       "  <thead>\n",
       "    <tr style=\"text-align: right;\">\n",
       "      <th></th>\n",
       "      <th>Ano</th>\n",
       "      <th>Arroz</th>\n",
       "      <th>Mandioca</th>\n",
       "      <th>Milho</th>\n",
       "      <th>Soja</th>\n",
       "      <th>Focos</th>\n",
       "      <th>Desmatamento</th>\n",
       "    </tr>\n",
       "  </thead>\n",
       "  <tbody>\n",
       "    <tr>\n",
       "      <th>0</th>\n",
       "      <td>2011</td>\n",
       "      <td>0.0</td>\n",
       "      <td>0.0</td>\n",
       "      <td>0.0</td>\n",
       "      <td>0.0</td>\n",
       "      <td>0.0</td>\n",
       "      <td>0.0</td>\n",
       "    </tr>\n",
       "    <tr>\n",
       "      <th>1</th>\n",
       "      <td>2012</td>\n",
       "      <td>-751.0</td>\n",
       "      <td>-1159.0</td>\n",
       "      <td>297.0</td>\n",
       "      <td>-700.0</td>\n",
       "      <td>1816.0</td>\n",
       "      <td>43.0</td>\n",
       "    </tr>\n",
       "    <tr>\n",
       "      <th>2</th>\n",
       "      <td>2013</td>\n",
       "      <td>401.0</td>\n",
       "      <td>65.0</td>\n",
       "      <td>-1247.0</td>\n",
       "      <td>-500.0</td>\n",
       "      <td>-1805.0</td>\n",
       "      <td>23.1</td>\n",
       "    </tr>\n",
       "    <tr>\n",
       "      <th>3</th>\n",
       "      <td>2014</td>\n",
       "      <td>-2200.0</td>\n",
       "      <td>1385.0</td>\n",
       "      <td>-500.0</td>\n",
       "      <td>2500.0</td>\n",
       "      <td>-555.0</td>\n",
       "      <td>22.3</td>\n",
       "    </tr>\n",
       "    <tr>\n",
       "      <th>4</th>\n",
       "      <td>2015</td>\n",
       "      <td>-240.0</td>\n",
       "      <td>-1510.0</td>\n",
       "      <td>500.0</td>\n",
       "      <td>3500.0</td>\n",
       "      <td>1273.0</td>\n",
       "      <td>11.1</td>\n",
       "    </tr>\n",
       "    <tr>\n",
       "      <th>5</th>\n",
       "      <td>2016</td>\n",
       "      <td>-2560.0</td>\n",
       "      <td>140.0</td>\n",
       "      <td>1500.0</td>\n",
       "      <td>500.0</td>\n",
       "      <td>-457.0</td>\n",
       "      <td>8.8</td>\n",
       "    </tr>\n",
       "    <tr>\n",
       "      <th>6</th>\n",
       "      <td>2017</td>\n",
       "      <td>200.0</td>\n",
       "      <td>-30.0</td>\n",
       "      <td>500.0</td>\n",
       "      <td>500.0</td>\n",
       "      <td>1015.0</td>\n",
       "      <td>9.1</td>\n",
       "    </tr>\n",
       "    <tr>\n",
       "      <th>7</th>\n",
       "      <td>2018</td>\n",
       "      <td>800.0</td>\n",
       "      <td>-90.0</td>\n",
       "      <td>1000.0</td>\n",
       "      <td>500.0</td>\n",
       "      <td>-1439.0</td>\n",
       "      <td>6.7</td>\n",
       "    </tr>\n",
       "    <tr>\n",
       "      <th>8</th>\n",
       "      <td>2019</td>\n",
       "      <td>-1013.0</td>\n",
       "      <td>-90.0</td>\n",
       "      <td>145.0</td>\n",
       "      <td>848.0</td>\n",
       "      <td>17.0</td>\n",
       "      <td>8.4</td>\n",
       "    </tr>\n",
       "    <tr>\n",
       "      <th>9</th>\n",
       "      <td>2020</td>\n",
       "      <td>353.0</td>\n",
       "      <td>5.0</td>\n",
       "      <td>5.0</td>\n",
       "      <td>97.0</td>\n",
       "      <td>9.0</td>\n",
       "      <td>8.5</td>\n",
       "    </tr>\n",
       "  </tbody>\n",
       "</table>\n",
       "</div>"
      ],
      "text/plain": [
       "    Ano   Arroz  Mandioca   Milho    Soja   Focos  Desmatamento\n",
       "0  2011     0.0       0.0     0.0     0.0     0.0           0.0\n",
       "1  2012  -751.0   -1159.0   297.0  -700.0  1816.0          43.0\n",
       "2  2013   401.0      65.0 -1247.0  -500.0 -1805.0          23.1\n",
       "3  2014 -2200.0    1385.0  -500.0  2500.0  -555.0          22.3\n",
       "4  2015  -240.0   -1510.0   500.0  3500.0  1273.0          11.1\n",
       "5  2016 -2560.0     140.0  1500.0   500.0  -457.0           8.8\n",
       "6  2017   200.0     -30.0   500.0   500.0  1015.0           9.1\n",
       "7  2018   800.0     -90.0  1000.0   500.0 -1439.0           6.7\n",
       "8  2019 -1013.0     -90.0   145.0   848.0    17.0           8.4\n",
       "9  2020   353.0       5.0     5.0    97.0     9.0           8.5"
      ]
     },
     "execution_count": 135,
     "metadata": {},
     "output_type": "execute_result"
    }
   ],
   "source": [
    "df = getCidade(\"Grajaú\")\n",
    "df.fillna(0)"
   ]
  },
  {
   "cell_type": "code",
   "execution_count": 136,
   "id": "12fccc1b",
   "metadata": {},
   "outputs": [],
   "source": [
    "df[\"Arroz\"] = df[\"Arroz\"].diff()\n",
    "df[\"Mandioca\"] = df[\"Mandioca\"].diff()\n",
    "df[\"Milho\"] = df[\"Milho\"].diff()\n",
    "df[\"Soja\"] = df[\"Soja\"].diff()\n",
    "df[\"Focos\"] = df[\"Focos\"].diff()\n"
   ]
  },
  {
   "cell_type": "code",
   "execution_count": 137,
   "id": "ce9e40b3",
   "metadata": {},
   "outputs": [
    {
     "data": {
      "application/vnd.plotly.v1+json": {
       "config": {
        "plotlyServerURL": "https://plot.ly"
       },
       "data": [
        {
         "name": "Arroz",
         "type": "scatter",
         "x": [
          "2011",
          "2012",
          "2013",
          "2014",
          "2015",
          "2016",
          "2017",
          "2018",
          "2019",
          "2020"
         ],
         "y": [
          null,
          null,
          1152,
          -2601,
          1960,
          -2320,
          2760,
          600,
          -1813,
          1366
         ]
        },
        {
         "name": "Mandioca",
         "type": "scatter",
         "x": [
          "2011",
          "2012",
          "2013",
          "2014",
          "2015",
          "2016",
          "2017",
          "2018",
          "2019",
          "2020"
         ],
         "y": [
          null,
          null,
          1224,
          1320,
          -2895,
          1650,
          -170,
          -60,
          0,
          95
         ]
        },
        {
         "name": "Milho",
         "type": "scatter",
         "x": [
          "2011",
          "2012",
          "2013",
          "2014",
          "2015",
          "2016",
          "2017",
          "2018",
          "2019",
          "2020"
         ],
         "y": [
          null,
          null,
          -1544,
          747,
          1000,
          1000,
          -1000,
          500,
          -855,
          -140
         ]
        },
        {
         "name": "Soja",
         "type": "scatter",
         "x": [
          "2011",
          "2012",
          "2013",
          "2014",
          "2015",
          "2016",
          "2017",
          "2018",
          "2019",
          "2020"
         ],
         "y": [
          null,
          null,
          200,
          3000,
          1000,
          -3000,
          0,
          0,
          348,
          -751
         ]
        },
        {
         "name": "Focos",
         "type": "scatter",
         "x": [
          "2011",
          "2012",
          "2013",
          "2014",
          "2015",
          "2016",
          "2017",
          "2018",
          "2019",
          "2020"
         ],
         "y": [
          null,
          null,
          -3621,
          1250,
          1828,
          -1730,
          1472,
          -2454,
          1456,
          -8
         ]
        },
        {
         "name": "Desmatamento",
         "type": "scatter",
         "x": [
          "2011",
          "2012",
          "2013",
          "2014",
          "2015",
          "2016",
          "2017",
          "2018",
          "2019",
          "2020"
         ],
         "y": [
          null,
          43,
          23.09999999999991,
          22.299999999999955,
          11.100000000000136,
          8.799999999999955,
          9.099999999999909,
          6.7000000000000455,
          8.400000000000091,
          8.5
         ]
        }
       ],
       "layout": {
        "template": {
         "data": {
          "bar": [
           {
            "error_x": {
             "color": "#2a3f5f"
            },
            "error_y": {
             "color": "#2a3f5f"
            },
            "marker": {
             "line": {
              "color": "#E5ECF6",
              "width": 0.5
             },
             "pattern": {
              "fillmode": "overlay",
              "size": 10,
              "solidity": 0.2
             }
            },
            "type": "bar"
           }
          ],
          "barpolar": [
           {
            "marker": {
             "line": {
              "color": "#E5ECF6",
              "width": 0.5
             },
             "pattern": {
              "fillmode": "overlay",
              "size": 10,
              "solidity": 0.2
             }
            },
            "type": "barpolar"
           }
          ],
          "carpet": [
           {
            "aaxis": {
             "endlinecolor": "#2a3f5f",
             "gridcolor": "white",
             "linecolor": "white",
             "minorgridcolor": "white",
             "startlinecolor": "#2a3f5f"
            },
            "baxis": {
             "endlinecolor": "#2a3f5f",
             "gridcolor": "white",
             "linecolor": "white",
             "minorgridcolor": "white",
             "startlinecolor": "#2a3f5f"
            },
            "type": "carpet"
           }
          ],
          "choropleth": [
           {
            "colorbar": {
             "outlinewidth": 0,
             "ticks": ""
            },
            "type": "choropleth"
           }
          ],
          "contour": [
           {
            "colorbar": {
             "outlinewidth": 0,
             "ticks": ""
            },
            "colorscale": [
             [
              0,
              "#0d0887"
             ],
             [
              0.1111111111111111,
              "#46039f"
             ],
             [
              0.2222222222222222,
              "#7201a8"
             ],
             [
              0.3333333333333333,
              "#9c179e"
             ],
             [
              0.4444444444444444,
              "#bd3786"
             ],
             [
              0.5555555555555556,
              "#d8576b"
             ],
             [
              0.6666666666666666,
              "#ed7953"
             ],
             [
              0.7777777777777778,
              "#fb9f3a"
             ],
             [
              0.8888888888888888,
              "#fdca26"
             ],
             [
              1,
              "#f0f921"
             ]
            ],
            "type": "contour"
           }
          ],
          "contourcarpet": [
           {
            "colorbar": {
             "outlinewidth": 0,
             "ticks": ""
            },
            "type": "contourcarpet"
           }
          ],
          "heatmap": [
           {
            "colorbar": {
             "outlinewidth": 0,
             "ticks": ""
            },
            "colorscale": [
             [
              0,
              "#0d0887"
             ],
             [
              0.1111111111111111,
              "#46039f"
             ],
             [
              0.2222222222222222,
              "#7201a8"
             ],
             [
              0.3333333333333333,
              "#9c179e"
             ],
             [
              0.4444444444444444,
              "#bd3786"
             ],
             [
              0.5555555555555556,
              "#d8576b"
             ],
             [
              0.6666666666666666,
              "#ed7953"
             ],
             [
              0.7777777777777778,
              "#fb9f3a"
             ],
             [
              0.8888888888888888,
              "#fdca26"
             ],
             [
              1,
              "#f0f921"
             ]
            ],
            "type": "heatmap"
           }
          ],
          "heatmapgl": [
           {
            "colorbar": {
             "outlinewidth": 0,
             "ticks": ""
            },
            "colorscale": [
             [
              0,
              "#0d0887"
             ],
             [
              0.1111111111111111,
              "#46039f"
             ],
             [
              0.2222222222222222,
              "#7201a8"
             ],
             [
              0.3333333333333333,
              "#9c179e"
             ],
             [
              0.4444444444444444,
              "#bd3786"
             ],
             [
              0.5555555555555556,
              "#d8576b"
             ],
             [
              0.6666666666666666,
              "#ed7953"
             ],
             [
              0.7777777777777778,
              "#fb9f3a"
             ],
             [
              0.8888888888888888,
              "#fdca26"
             ],
             [
              1,
              "#f0f921"
             ]
            ],
            "type": "heatmapgl"
           }
          ],
          "histogram": [
           {
            "marker": {
             "pattern": {
              "fillmode": "overlay",
              "size": 10,
              "solidity": 0.2
             }
            },
            "type": "histogram"
           }
          ],
          "histogram2d": [
           {
            "colorbar": {
             "outlinewidth": 0,
             "ticks": ""
            },
            "colorscale": [
             [
              0,
              "#0d0887"
             ],
             [
              0.1111111111111111,
              "#46039f"
             ],
             [
              0.2222222222222222,
              "#7201a8"
             ],
             [
              0.3333333333333333,
              "#9c179e"
             ],
             [
              0.4444444444444444,
              "#bd3786"
             ],
             [
              0.5555555555555556,
              "#d8576b"
             ],
             [
              0.6666666666666666,
              "#ed7953"
             ],
             [
              0.7777777777777778,
              "#fb9f3a"
             ],
             [
              0.8888888888888888,
              "#fdca26"
             ],
             [
              1,
              "#f0f921"
             ]
            ],
            "type": "histogram2d"
           }
          ],
          "histogram2dcontour": [
           {
            "colorbar": {
             "outlinewidth": 0,
             "ticks": ""
            },
            "colorscale": [
             [
              0,
              "#0d0887"
             ],
             [
              0.1111111111111111,
              "#46039f"
             ],
             [
              0.2222222222222222,
              "#7201a8"
             ],
             [
              0.3333333333333333,
              "#9c179e"
             ],
             [
              0.4444444444444444,
              "#bd3786"
             ],
             [
              0.5555555555555556,
              "#d8576b"
             ],
             [
              0.6666666666666666,
              "#ed7953"
             ],
             [
              0.7777777777777778,
              "#fb9f3a"
             ],
             [
              0.8888888888888888,
              "#fdca26"
             ],
             [
              1,
              "#f0f921"
             ]
            ],
            "type": "histogram2dcontour"
           }
          ],
          "mesh3d": [
           {
            "colorbar": {
             "outlinewidth": 0,
             "ticks": ""
            },
            "type": "mesh3d"
           }
          ],
          "parcoords": [
           {
            "line": {
             "colorbar": {
              "outlinewidth": 0,
              "ticks": ""
             }
            },
            "type": "parcoords"
           }
          ],
          "pie": [
           {
            "automargin": true,
            "type": "pie"
           }
          ],
          "scatter": [
           {
            "marker": {
             "colorbar": {
              "outlinewidth": 0,
              "ticks": ""
             }
            },
            "type": "scatter"
           }
          ],
          "scatter3d": [
           {
            "line": {
             "colorbar": {
              "outlinewidth": 0,
              "ticks": ""
             }
            },
            "marker": {
             "colorbar": {
              "outlinewidth": 0,
              "ticks": ""
             }
            },
            "type": "scatter3d"
           }
          ],
          "scattercarpet": [
           {
            "marker": {
             "colorbar": {
              "outlinewidth": 0,
              "ticks": ""
             }
            },
            "type": "scattercarpet"
           }
          ],
          "scattergeo": [
           {
            "marker": {
             "colorbar": {
              "outlinewidth": 0,
              "ticks": ""
             }
            },
            "type": "scattergeo"
           }
          ],
          "scattergl": [
           {
            "marker": {
             "colorbar": {
              "outlinewidth": 0,
              "ticks": ""
             }
            },
            "type": "scattergl"
           }
          ],
          "scattermapbox": [
           {
            "marker": {
             "colorbar": {
              "outlinewidth": 0,
              "ticks": ""
             }
            },
            "type": "scattermapbox"
           }
          ],
          "scatterpolar": [
           {
            "marker": {
             "colorbar": {
              "outlinewidth": 0,
              "ticks": ""
             }
            },
            "type": "scatterpolar"
           }
          ],
          "scatterpolargl": [
           {
            "marker": {
             "colorbar": {
              "outlinewidth": 0,
              "ticks": ""
             }
            },
            "type": "scatterpolargl"
           }
          ],
          "scatterternary": [
           {
            "marker": {
             "colorbar": {
              "outlinewidth": 0,
              "ticks": ""
             }
            },
            "type": "scatterternary"
           }
          ],
          "surface": [
           {
            "colorbar": {
             "outlinewidth": 0,
             "ticks": ""
            },
            "colorscale": [
             [
              0,
              "#0d0887"
             ],
             [
              0.1111111111111111,
              "#46039f"
             ],
             [
              0.2222222222222222,
              "#7201a8"
             ],
             [
              0.3333333333333333,
              "#9c179e"
             ],
             [
              0.4444444444444444,
              "#bd3786"
             ],
             [
              0.5555555555555556,
              "#d8576b"
             ],
             [
              0.6666666666666666,
              "#ed7953"
             ],
             [
              0.7777777777777778,
              "#fb9f3a"
             ],
             [
              0.8888888888888888,
              "#fdca26"
             ],
             [
              1,
              "#f0f921"
             ]
            ],
            "type": "surface"
           }
          ],
          "table": [
           {
            "cells": {
             "fill": {
              "color": "#EBF0F8"
             },
             "line": {
              "color": "white"
             }
            },
            "header": {
             "fill": {
              "color": "#C8D4E3"
             },
             "line": {
              "color": "white"
             }
            },
            "type": "table"
           }
          ]
         },
         "layout": {
          "annotationdefaults": {
           "arrowcolor": "#2a3f5f",
           "arrowhead": 0,
           "arrowwidth": 1
          },
          "autotypenumbers": "strict",
          "coloraxis": {
           "colorbar": {
            "outlinewidth": 0,
            "ticks": ""
           }
          },
          "colorscale": {
           "diverging": [
            [
             0,
             "#8e0152"
            ],
            [
             0.1,
             "#c51b7d"
            ],
            [
             0.2,
             "#de77ae"
            ],
            [
             0.3,
             "#f1b6da"
            ],
            [
             0.4,
             "#fde0ef"
            ],
            [
             0.5,
             "#f7f7f7"
            ],
            [
             0.6,
             "#e6f5d0"
            ],
            [
             0.7,
             "#b8e186"
            ],
            [
             0.8,
             "#7fbc41"
            ],
            [
             0.9,
             "#4d9221"
            ],
            [
             1,
             "#276419"
            ]
           ],
           "sequential": [
            [
             0,
             "#0d0887"
            ],
            [
             0.1111111111111111,
             "#46039f"
            ],
            [
             0.2222222222222222,
             "#7201a8"
            ],
            [
             0.3333333333333333,
             "#9c179e"
            ],
            [
             0.4444444444444444,
             "#bd3786"
            ],
            [
             0.5555555555555556,
             "#d8576b"
            ],
            [
             0.6666666666666666,
             "#ed7953"
            ],
            [
             0.7777777777777778,
             "#fb9f3a"
            ],
            [
             0.8888888888888888,
             "#fdca26"
            ],
            [
             1,
             "#f0f921"
            ]
           ],
           "sequentialminus": [
            [
             0,
             "#0d0887"
            ],
            [
             0.1111111111111111,
             "#46039f"
            ],
            [
             0.2222222222222222,
             "#7201a8"
            ],
            [
             0.3333333333333333,
             "#9c179e"
            ],
            [
             0.4444444444444444,
             "#bd3786"
            ],
            [
             0.5555555555555556,
             "#d8576b"
            ],
            [
             0.6666666666666666,
             "#ed7953"
            ],
            [
             0.7777777777777778,
             "#fb9f3a"
            ],
            [
             0.8888888888888888,
             "#fdca26"
            ],
            [
             1,
             "#f0f921"
            ]
           ]
          },
          "colorway": [
           "#636efa",
           "#EF553B",
           "#00cc96",
           "#ab63fa",
           "#FFA15A",
           "#19d3f3",
           "#FF6692",
           "#B6E880",
           "#FF97FF",
           "#FECB52"
          ],
          "font": {
           "color": "#2a3f5f"
          },
          "geo": {
           "bgcolor": "white",
           "lakecolor": "white",
           "landcolor": "#E5ECF6",
           "showlakes": true,
           "showland": true,
           "subunitcolor": "white"
          },
          "hoverlabel": {
           "align": "left"
          },
          "hovermode": "closest",
          "mapbox": {
           "style": "light"
          },
          "paper_bgcolor": "white",
          "plot_bgcolor": "#E5ECF6",
          "polar": {
           "angularaxis": {
            "gridcolor": "white",
            "linecolor": "white",
            "ticks": ""
           },
           "bgcolor": "#E5ECF6",
           "radialaxis": {
            "gridcolor": "white",
            "linecolor": "white",
            "ticks": ""
           }
          },
          "scene": {
           "xaxis": {
            "backgroundcolor": "#E5ECF6",
            "gridcolor": "white",
            "gridwidth": 2,
            "linecolor": "white",
            "showbackground": true,
            "ticks": "",
            "zerolinecolor": "white"
           },
           "yaxis": {
            "backgroundcolor": "#E5ECF6",
            "gridcolor": "white",
            "gridwidth": 2,
            "linecolor": "white",
            "showbackground": true,
            "ticks": "",
            "zerolinecolor": "white"
           },
           "zaxis": {
            "backgroundcolor": "#E5ECF6",
            "gridcolor": "white",
            "gridwidth": 2,
            "linecolor": "white",
            "showbackground": true,
            "ticks": "",
            "zerolinecolor": "white"
           }
          },
          "shapedefaults": {
           "line": {
            "color": "#2a3f5f"
           }
          },
          "ternary": {
           "aaxis": {
            "gridcolor": "white",
            "linecolor": "white",
            "ticks": ""
           },
           "baxis": {
            "gridcolor": "white",
            "linecolor": "white",
            "ticks": ""
           },
           "bgcolor": "#E5ECF6",
           "caxis": {
            "gridcolor": "white",
            "linecolor": "white",
            "ticks": ""
           }
          },
          "title": {
           "x": 0.05
          },
          "xaxis": {
           "automargin": true,
           "gridcolor": "white",
           "linecolor": "white",
           "ticks": "",
           "title": {
            "standoff": 15
           },
           "zerolinecolor": "white",
           "zerolinewidth": 2
          },
          "yaxis": {
           "automargin": true,
           "gridcolor": "white",
           "linecolor": "white",
           "ticks": "",
           "title": {
            "standoff": 15
           },
           "zerolinecolor": "white",
           "zerolinewidth": 2
          }
         }
        },
        "title": {
         "text": "Produção x Queimadas no Município de  no período de 2011-2020"
        },
        "xaxis": {
         "title": {
          "text": "Ano"
         }
        },
        "yaxis": {
         "title": {
          "text": "Quantidade"
         }
        }
       }
      },
      "text/html": [
       "<div>                            <div id=\"a09f5a87-39f9-4952-8e70-0cdac2628be4\" class=\"plotly-graph-div\" style=\"height:525px; width:100%;\"></div>            <script type=\"text/javascript\">                require([\"plotly\"], function(Plotly) {                    window.PLOTLYENV=window.PLOTLYENV || {};                                    if (document.getElementById(\"a09f5a87-39f9-4952-8e70-0cdac2628be4\")) {                    Plotly.newPlot(                        \"a09f5a87-39f9-4952-8e70-0cdac2628be4\",                        [{\"name\":\"Arroz\",\"type\":\"scatter\",\"x\":[\"2011\",\"2012\",\"2013\",\"2014\",\"2015\",\"2016\",\"2017\",\"2018\",\"2019\",\"2020\"],\"y\":[null,null,1152.0,-2601.0,1960.0,-2320.0,2760.0,600.0,-1813.0,1366.0]},{\"name\":\"Mandioca\",\"type\":\"scatter\",\"x\":[\"2011\",\"2012\",\"2013\",\"2014\",\"2015\",\"2016\",\"2017\",\"2018\",\"2019\",\"2020\"],\"y\":[null,null,1224.0,1320.0,-2895.0,1650.0,-170.0,-60.0,0.0,95.0]},{\"name\":\"Milho\",\"type\":\"scatter\",\"x\":[\"2011\",\"2012\",\"2013\",\"2014\",\"2015\",\"2016\",\"2017\",\"2018\",\"2019\",\"2020\"],\"y\":[null,null,-1544.0,747.0,1000.0,1000.0,-1000.0,500.0,-855.0,-140.0]},{\"name\":\"Soja\",\"type\":\"scatter\",\"x\":[\"2011\",\"2012\",\"2013\",\"2014\",\"2015\",\"2016\",\"2017\",\"2018\",\"2019\",\"2020\"],\"y\":[null,null,200.0,3000.0,1000.0,-3000.0,0.0,0.0,348.0,-751.0]},{\"name\":\"Focos\",\"type\":\"scatter\",\"x\":[\"2011\",\"2012\",\"2013\",\"2014\",\"2015\",\"2016\",\"2017\",\"2018\",\"2019\",\"2020\"],\"y\":[null,null,-3621.0,1250.0,1828.0,-1730.0,1472.0,-2454.0,1456.0,-8.0]},{\"name\":\"Desmatamento\",\"type\":\"scatter\",\"x\":[\"2011\",\"2012\",\"2013\",\"2014\",\"2015\",\"2016\",\"2017\",\"2018\",\"2019\",\"2020\"],\"y\":[null,43.0,23.09999999999991,22.299999999999955,11.100000000000136,8.799999999999955,9.099999999999909,6.7000000000000455,8.400000000000091,8.5]}],                        {\"template\":{\"data\":{\"bar\":[{\"error_x\":{\"color\":\"#2a3f5f\"},\"error_y\":{\"color\":\"#2a3f5f\"},\"marker\":{\"line\":{\"color\":\"#E5ECF6\",\"width\":0.5},\"pattern\":{\"fillmode\":\"overlay\",\"size\":10,\"solidity\":0.2}},\"type\":\"bar\"}],\"barpolar\":[{\"marker\":{\"line\":{\"color\":\"#E5ECF6\",\"width\":0.5},\"pattern\":{\"fillmode\":\"overlay\",\"size\":10,\"solidity\":0.2}},\"type\":\"barpolar\"}],\"carpet\":[{\"aaxis\":{\"endlinecolor\":\"#2a3f5f\",\"gridcolor\":\"white\",\"linecolor\":\"white\",\"minorgridcolor\":\"white\",\"startlinecolor\":\"#2a3f5f\"},\"baxis\":{\"endlinecolor\":\"#2a3f5f\",\"gridcolor\":\"white\",\"linecolor\":\"white\",\"minorgridcolor\":\"white\",\"startlinecolor\":\"#2a3f5f\"},\"type\":\"carpet\"}],\"choropleth\":[{\"colorbar\":{\"outlinewidth\":0,\"ticks\":\"\"},\"type\":\"choropleth\"}],\"contour\":[{\"colorbar\":{\"outlinewidth\":0,\"ticks\":\"\"},\"colorscale\":[[0.0,\"#0d0887\"],[0.1111111111111111,\"#46039f\"],[0.2222222222222222,\"#7201a8\"],[0.3333333333333333,\"#9c179e\"],[0.4444444444444444,\"#bd3786\"],[0.5555555555555556,\"#d8576b\"],[0.6666666666666666,\"#ed7953\"],[0.7777777777777778,\"#fb9f3a\"],[0.8888888888888888,\"#fdca26\"],[1.0,\"#f0f921\"]],\"type\":\"contour\"}],\"contourcarpet\":[{\"colorbar\":{\"outlinewidth\":0,\"ticks\":\"\"},\"type\":\"contourcarpet\"}],\"heatmap\":[{\"colorbar\":{\"outlinewidth\":0,\"ticks\":\"\"},\"colorscale\":[[0.0,\"#0d0887\"],[0.1111111111111111,\"#46039f\"],[0.2222222222222222,\"#7201a8\"],[0.3333333333333333,\"#9c179e\"],[0.4444444444444444,\"#bd3786\"],[0.5555555555555556,\"#d8576b\"],[0.6666666666666666,\"#ed7953\"],[0.7777777777777778,\"#fb9f3a\"],[0.8888888888888888,\"#fdca26\"],[1.0,\"#f0f921\"]],\"type\":\"heatmap\"}],\"heatmapgl\":[{\"colorbar\":{\"outlinewidth\":0,\"ticks\":\"\"},\"colorscale\":[[0.0,\"#0d0887\"],[0.1111111111111111,\"#46039f\"],[0.2222222222222222,\"#7201a8\"],[0.3333333333333333,\"#9c179e\"],[0.4444444444444444,\"#bd3786\"],[0.5555555555555556,\"#d8576b\"],[0.6666666666666666,\"#ed7953\"],[0.7777777777777778,\"#fb9f3a\"],[0.8888888888888888,\"#fdca26\"],[1.0,\"#f0f921\"]],\"type\":\"heatmapgl\"}],\"histogram\":[{\"marker\":{\"pattern\":{\"fillmode\":\"overlay\",\"size\":10,\"solidity\":0.2}},\"type\":\"histogram\"}],\"histogram2d\":[{\"colorbar\":{\"outlinewidth\":0,\"ticks\":\"\"},\"colorscale\":[[0.0,\"#0d0887\"],[0.1111111111111111,\"#46039f\"],[0.2222222222222222,\"#7201a8\"],[0.3333333333333333,\"#9c179e\"],[0.4444444444444444,\"#bd3786\"],[0.5555555555555556,\"#d8576b\"],[0.6666666666666666,\"#ed7953\"],[0.7777777777777778,\"#fb9f3a\"],[0.8888888888888888,\"#fdca26\"],[1.0,\"#f0f921\"]],\"type\":\"histogram2d\"}],\"histogram2dcontour\":[{\"colorbar\":{\"outlinewidth\":0,\"ticks\":\"\"},\"colorscale\":[[0.0,\"#0d0887\"],[0.1111111111111111,\"#46039f\"],[0.2222222222222222,\"#7201a8\"],[0.3333333333333333,\"#9c179e\"],[0.4444444444444444,\"#bd3786\"],[0.5555555555555556,\"#d8576b\"],[0.6666666666666666,\"#ed7953\"],[0.7777777777777778,\"#fb9f3a\"],[0.8888888888888888,\"#fdca26\"],[1.0,\"#f0f921\"]],\"type\":\"histogram2dcontour\"}],\"mesh3d\":[{\"colorbar\":{\"outlinewidth\":0,\"ticks\":\"\"},\"type\":\"mesh3d\"}],\"parcoords\":[{\"line\":{\"colorbar\":{\"outlinewidth\":0,\"ticks\":\"\"}},\"type\":\"parcoords\"}],\"pie\":[{\"automargin\":true,\"type\":\"pie\"}],\"scatter\":[{\"marker\":{\"colorbar\":{\"outlinewidth\":0,\"ticks\":\"\"}},\"type\":\"scatter\"}],\"scatter3d\":[{\"line\":{\"colorbar\":{\"outlinewidth\":0,\"ticks\":\"\"}},\"marker\":{\"colorbar\":{\"outlinewidth\":0,\"ticks\":\"\"}},\"type\":\"scatter3d\"}],\"scattercarpet\":[{\"marker\":{\"colorbar\":{\"outlinewidth\":0,\"ticks\":\"\"}},\"type\":\"scattercarpet\"}],\"scattergeo\":[{\"marker\":{\"colorbar\":{\"outlinewidth\":0,\"ticks\":\"\"}},\"type\":\"scattergeo\"}],\"scattergl\":[{\"marker\":{\"colorbar\":{\"outlinewidth\":0,\"ticks\":\"\"}},\"type\":\"scattergl\"}],\"scattermapbox\":[{\"marker\":{\"colorbar\":{\"outlinewidth\":0,\"ticks\":\"\"}},\"type\":\"scattermapbox\"}],\"scatterpolar\":[{\"marker\":{\"colorbar\":{\"outlinewidth\":0,\"ticks\":\"\"}},\"type\":\"scatterpolar\"}],\"scatterpolargl\":[{\"marker\":{\"colorbar\":{\"outlinewidth\":0,\"ticks\":\"\"}},\"type\":\"scatterpolargl\"}],\"scatterternary\":[{\"marker\":{\"colorbar\":{\"outlinewidth\":0,\"ticks\":\"\"}},\"type\":\"scatterternary\"}],\"surface\":[{\"colorbar\":{\"outlinewidth\":0,\"ticks\":\"\"},\"colorscale\":[[0.0,\"#0d0887\"],[0.1111111111111111,\"#46039f\"],[0.2222222222222222,\"#7201a8\"],[0.3333333333333333,\"#9c179e\"],[0.4444444444444444,\"#bd3786\"],[0.5555555555555556,\"#d8576b\"],[0.6666666666666666,\"#ed7953\"],[0.7777777777777778,\"#fb9f3a\"],[0.8888888888888888,\"#fdca26\"],[1.0,\"#f0f921\"]],\"type\":\"surface\"}],\"table\":[{\"cells\":{\"fill\":{\"color\":\"#EBF0F8\"},\"line\":{\"color\":\"white\"}},\"header\":{\"fill\":{\"color\":\"#C8D4E3\"},\"line\":{\"color\":\"white\"}},\"type\":\"table\"}]},\"layout\":{\"annotationdefaults\":{\"arrowcolor\":\"#2a3f5f\",\"arrowhead\":0,\"arrowwidth\":1},\"autotypenumbers\":\"strict\",\"coloraxis\":{\"colorbar\":{\"outlinewidth\":0,\"ticks\":\"\"}},\"colorscale\":{\"diverging\":[[0,\"#8e0152\"],[0.1,\"#c51b7d\"],[0.2,\"#de77ae\"],[0.3,\"#f1b6da\"],[0.4,\"#fde0ef\"],[0.5,\"#f7f7f7\"],[0.6,\"#e6f5d0\"],[0.7,\"#b8e186\"],[0.8,\"#7fbc41\"],[0.9,\"#4d9221\"],[1,\"#276419\"]],\"sequential\":[[0.0,\"#0d0887\"],[0.1111111111111111,\"#46039f\"],[0.2222222222222222,\"#7201a8\"],[0.3333333333333333,\"#9c179e\"],[0.4444444444444444,\"#bd3786\"],[0.5555555555555556,\"#d8576b\"],[0.6666666666666666,\"#ed7953\"],[0.7777777777777778,\"#fb9f3a\"],[0.8888888888888888,\"#fdca26\"],[1.0,\"#f0f921\"]],\"sequentialminus\":[[0.0,\"#0d0887\"],[0.1111111111111111,\"#46039f\"],[0.2222222222222222,\"#7201a8\"],[0.3333333333333333,\"#9c179e\"],[0.4444444444444444,\"#bd3786\"],[0.5555555555555556,\"#d8576b\"],[0.6666666666666666,\"#ed7953\"],[0.7777777777777778,\"#fb9f3a\"],[0.8888888888888888,\"#fdca26\"],[1.0,\"#f0f921\"]]},\"colorway\":[\"#636efa\",\"#EF553B\",\"#00cc96\",\"#ab63fa\",\"#FFA15A\",\"#19d3f3\",\"#FF6692\",\"#B6E880\",\"#FF97FF\",\"#FECB52\"],\"font\":{\"color\":\"#2a3f5f\"},\"geo\":{\"bgcolor\":\"white\",\"lakecolor\":\"white\",\"landcolor\":\"#E5ECF6\",\"showlakes\":true,\"showland\":true,\"subunitcolor\":\"white\"},\"hoverlabel\":{\"align\":\"left\"},\"hovermode\":\"closest\",\"mapbox\":{\"style\":\"light\"},\"paper_bgcolor\":\"white\",\"plot_bgcolor\":\"#E5ECF6\",\"polar\":{\"angularaxis\":{\"gridcolor\":\"white\",\"linecolor\":\"white\",\"ticks\":\"\"},\"bgcolor\":\"#E5ECF6\",\"radialaxis\":{\"gridcolor\":\"white\",\"linecolor\":\"white\",\"ticks\":\"\"}},\"scene\":{\"xaxis\":{\"backgroundcolor\":\"#E5ECF6\",\"gridcolor\":\"white\",\"gridwidth\":2,\"linecolor\":\"white\",\"showbackground\":true,\"ticks\":\"\",\"zerolinecolor\":\"white\"},\"yaxis\":{\"backgroundcolor\":\"#E5ECF6\",\"gridcolor\":\"white\",\"gridwidth\":2,\"linecolor\":\"white\",\"showbackground\":true,\"ticks\":\"\",\"zerolinecolor\":\"white\"},\"zaxis\":{\"backgroundcolor\":\"#E5ECF6\",\"gridcolor\":\"white\",\"gridwidth\":2,\"linecolor\":\"white\",\"showbackground\":true,\"ticks\":\"\",\"zerolinecolor\":\"white\"}},\"shapedefaults\":{\"line\":{\"color\":\"#2a3f5f\"}},\"ternary\":{\"aaxis\":{\"gridcolor\":\"white\",\"linecolor\":\"white\",\"ticks\":\"\"},\"baxis\":{\"gridcolor\":\"white\",\"linecolor\":\"white\",\"ticks\":\"\"},\"bgcolor\":\"#E5ECF6\",\"caxis\":{\"gridcolor\":\"white\",\"linecolor\":\"white\",\"ticks\":\"\"}},\"title\":{\"x\":0.05},\"xaxis\":{\"automargin\":true,\"gridcolor\":\"white\",\"linecolor\":\"white\",\"ticks\":\"\",\"title\":{\"standoff\":15},\"zerolinecolor\":\"white\",\"zerolinewidth\":2},\"yaxis\":{\"automargin\":true,\"gridcolor\":\"white\",\"linecolor\":\"white\",\"ticks\":\"\",\"title\":{\"standoff\":15},\"zerolinecolor\":\"white\",\"zerolinewidth\":2}}},\"title\":{\"text\":\"Produ\\u00e7\\u00e3o x Queimadas no Munic\\u00edpio de  no per\\u00edodo de 2011-2020\"},\"xaxis\":{\"title\":{\"text\":\"Ano\"}},\"yaxis\":{\"title\":{\"text\":\"Quantidade\"}}},                        {\"responsive\": true}                    ).then(function(){\n",
       "                            \n",
       "var gd = document.getElementById('a09f5a87-39f9-4952-8e70-0cdac2628be4');\n",
       "var x = new MutationObserver(function (mutations, observer) {{\n",
       "        var display = window.getComputedStyle(gd).display;\n",
       "        if (!display || display === 'none') {{\n",
       "            console.log([gd, 'removed!']);\n",
       "            Plotly.purge(gd);\n",
       "            observer.disconnect();\n",
       "        }}\n",
       "}});\n",
       "\n",
       "// Listen for the removal of the full notebook cells\n",
       "var notebookContainer = gd.closest('#notebook-container');\n",
       "if (notebookContainer) {{\n",
       "    x.observe(notebookContainer, {childList: true});\n",
       "}}\n",
       "\n",
       "// Listen for the clearing of the current output cell\n",
       "var outputEl = gd.closest('.output');\n",
       "if (outputEl) {{\n",
       "    x.observe(outputEl, {childList: true});\n",
       "}}\n",
       "\n",
       "                        })                };                });            </script>        </div>"
      ]
     },
     "metadata": {},
     "output_type": "display_data"
    }
   ],
   "source": [
    "plotar(df, \"\", plt1=True, plt2=True, plt3=True,  plt4=True)"
   ]
  },
  {
   "cell_type": "code",
   "execution_count": 11,
   "id": "287ebf28",
   "metadata": {},
   "outputs": [
    {
     "data": {
      "text/plain": [
       "[{'aldeia': 'ARARIBOIA',\n",
       "  'população': 5317,\n",
       "  'municipios': ['Amarante do Maranhão',\n",
       "   'Arame',\n",
       "   'Bom Jesus das Selvas',\n",
       "   'Buriticupu',\n",
       "   'Grajaú',\n",
       "   'Santa Luzia']},\n",
       " {'aldeia': 'CANA BRAVA/GUAJAJARA',\n",
       "  'população': 4510,\n",
       "  'municipios': ['Barra do Corda', 'Grajaú', 'Jenipapo dos Vieiras']},\n",
       " {'aldeia': 'BACURIZINHO ', 'população': 3663, 'municipios': ['Grajaú']},\n",
       " {'aldeia': 'KANELA MEMORTUMRÉ',\n",
       "  'população': 1961,\n",
       "  'municipios': ['Barra do Corda', 'Fernando Falcão']},\n",
       " {'aldeia': 'RIO PINDARÉ',\n",
       "  'população': 1789,\n",
       "  'municipios': ['Bom Jardim', 'Monção']}]"
      ]
     },
     "execution_count": 11,
     "metadata": {},
     "output_type": "execute_result"
    }
   ],
   "source": [
    "[\n",
    "    {\n",
    "        'aldeia': \"ARARIBOIA\",\n",
    "        'população': 5317,\n",
    "        'municipios': [\"Amarante do Maranhão\",  \"Arame\", \"Bom Jesus das Selvas\", \"Buriticupu\", \"Grajaú\", \"Santa Luzia\"]\n",
    "    },\n",
    "    {\n",
    "        'aldeia': \"CANA BRAVA/GUAJAJARA\",\n",
    "        'população': 4510,\n",
    "        'municipios': [\"Barra do Corda\", \"Grajaú\", \"Jenipapo dos Vieiras\"]\n",
    "    },\n",
    "    {\n",
    "        'aldeia': \"BACURIZINHO \",\n",
    "        'população': 3663,\n",
    "        'municipios': [\"Grajaú\"]\n",
    "    },\n",
    "    {\n",
    "        'aldeia': \"KANELA MEMORTUMRÉ\",\n",
    "        'população': 1961,\n",
    "        'municipios': [\"Barra do Corda\",  \"Fernando Falcão\"]\n",
    "    },\n",
    "    {\n",
    "        'aldeia': \"RIO PINDARÉ\",\n",
    "        'população': 1789,\n",
    "        'municipios': [\"Bom Jardim\",  \"Monção\"]\n",
    "    }\n",
    "]"
   ]
  },
  {
   "cell_type": "code",
   "execution_count": 12,
   "id": "d2f8f974",
   "metadata": {},
   "outputs": [],
   "source": [
    "cidades = {\"Amarante do Maranhão\",  \"Arame\", \"Bom Jesus das Selvas\", \"Buriticupu\", \"Grajaú\", \"Santa Luzia\", \"Barra do Corda\", \"Grajaú\", \"Jenipapo dos Vieiras\",\"Fernando Falcão\", \"Bom Jardim\",  \"Monção\"}"
   ]
  },
  {
   "cell_type": "code",
   "execution_count": null,
   "id": "8b434b9c",
   "metadata": {},
   "outputs": [],
   "source": []
  },
  {
   "cell_type": "code",
   "execution_count": null,
   "id": "370a34b6",
   "metadata": {},
   "outputs": [],
   "source": []
  }
 ],
 "metadata": {
  "kernelspec": {
   "display_name": "Python 3",
   "language": "python",
   "name": "python3"
  },
  "language_info": {
   "codemirror_mode": {
    "name": "ipython",
    "version": 3
   },
   "file_extension": ".py",
   "mimetype": "text/x-python",
   "name": "python",
   "nbconvert_exporter": "python",
   "pygments_lexer": "ipython3",
   "version": "3.8.8"
  }
 },
 "nbformat": 4,
 "nbformat_minor": 5
}
