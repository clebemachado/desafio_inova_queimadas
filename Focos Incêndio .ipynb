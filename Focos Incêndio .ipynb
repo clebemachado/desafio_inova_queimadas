{
 "cells": [
  {
   "cell_type": "code",
   "execution_count": null,
   "id": "e76c94b3",
   "metadata": {},
   "outputs": [],
   "source": [
    "import pandas as pd"
   ]
  },
  {
   "cell_type": "code",
   "execution_count": null,
   "id": "d0dfd50e",
   "metadata": {},
   "outputs": [],
   "source": [
    "focos_queimadas_2011_2020 = pd.read_excel(\"Dados/total_focos_queimadas_por_estado.xlsx\", skipfooter=1)\n",
    "focos_queimadas_2011_2020.rename(columns={\"Unnamed: 0\": \"Cidades\"}, inplace=True)\n",
    "focos_queimadas_2011_2020.set_index('Cidades', inplace = True)\n",
    "focos_queimadas_2011_2020 = focos_queimadas_2011_2020.iloc[:,11:]"
   ]
  },
  {
   "cell_type": "code",
   "execution_count": null,
   "id": "d422b3cf",
   "metadata": {},
   "outputs": [],
   "source": [
    "#focos_queimadas_2011_2020.to_csv(\"Dados_Tratados/focos_queimadas_2011_2020.csv\", sep=\";\", encoding=\"utf-8\")"
   ]
  },
  {
   "cell_type": "code",
   "execution_count": null,
   "id": "401365d0",
   "metadata": {},
   "outputs": [],
   "source": [
    "focos_queimadas_2011_2020.head()"
   ]
  }
 ],
 "metadata": {
  "kernelspec": {
   "display_name": "Python 3",
   "language": "python",
   "name": "python3"
  },
  "language_info": {
   "codemirror_mode": {
    "name": "ipython",
    "version": 3
   },
   "file_extension": ".py",
   "mimetype": "text/x-python",
   "name": "python",
   "nbconvert_exporter": "python",
   "pygments_lexer": "ipython3",
   "version": "3.8.8"
  }
 },
 "nbformat": 4,
 "nbformat_minor": 5
}
