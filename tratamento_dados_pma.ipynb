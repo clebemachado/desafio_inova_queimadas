{
 "cells": [
  {
   "cell_type": "markdown",
   "id": "b9998e6a",
   "metadata": {},
   "source": [
    "# Datraframe do PMA do estado do Maranhão"
   ]
  },
  {
   "cell_type": "markdown",
   "id": "44e10ed2",
   "metadata": {},
   "source": [
    "### Foram divididos em 4 dataframes:\n",
    "<ol>\n",
    "    <li>Área plantada</li>\n",
    "    <li>Área colhida (Hectares)</li>\n",
    "    <li>Quantidade produzida (Toneladas)</li>\n",
    "    <li>Valor da produção (Mil Reais)</li>\n",
    "</ol>"
   ]
  },
  {
   "cell_type": "code",
   "execution_count": 1,
   "id": "9b225d4d",
   "metadata": {},
   "outputs": [],
   "source": [
    "import pandas as pd\n",
    "pd.options.display.max_columns = 999"
   ]
  },
  {
   "cell_type": "markdown",
   "id": "61533dd9",
   "metadata": {},
   "source": [
    "## Variáveis gerais"
   ]
  },
  {
   "cell_type": "code",
   "execution_count": 2,
   "id": "6c0c5a29",
   "metadata": {},
   "outputs": [],
   "source": [
    "sheet_name1 = \"Área plantada (Hectares)\"\n",
    "sheet_name2 = \"Área colhida (Hectares)\"\n",
    "sheet_name3 = \"Quantidade produzida (Tonela...\"\n",
    "sheet_name4 = \"Valor da produção (Mil Reais)\""
   ]
  },
  {
   "cell_type": "markdown",
   "id": "7ba3f96f",
   "metadata": {},
   "source": [
    "## Culturas Selecionadas"
   ]
  },
  {
   "cell_type": "code",
   "execution_count": 3,
   "id": "967c44d0",
   "metadata": {},
   "outputs": [
    {
     "data": {
      "text/plain": [
       "'\\nFoi utilizado para pegar as culturas onde era produzido acidma de 500 toneladas\\nnome_culturas = []\\nfor x in culturas:\\n    if area_plantada_2020[x].describe().max() > 500:\\n        nome_culturas.append(x)    \\n'"
      ]
     },
     "execution_count": 3,
     "metadata": {},
     "output_type": "execute_result"
    }
   ],
   "source": [
    "nome_culturas = ['Total',\n",
    " 'Abacaxi',\n",
    " 'Algodão herbáceo (em caroço)',\n",
    " 'Arroz (em casca)',\n",
    " 'Cana-de-açúcar',\n",
    " 'Feijão (em grão)',\n",
    " 'Mandioca',\n",
    " 'Milho (em grão)',\n",
    " 'Soja (em grão)',\n",
    " 'Sorgo (em grão)']\n",
    "\n",
    "\"\"\"\n",
    "Foi utilizado para pegar as culturas onde era produzido acidma de 500 toneladas\n",
    "nome_culturas = []\n",
    "for x in culturas:\n",
    "    if area_plantada_2020[x].describe().max() > 500:\n",
    "        nome_culturas.append(x)    \n",
    "\"\"\""
   ]
  },
  {
   "cell_type": "code",
   "execution_count": null,
   "id": "2e9c4f84",
   "metadata": {},
   "outputs": [],
   "source": []
  },
  {
   "cell_type": "markdown",
   "id": "5d6ff289",
   "metadata": {},
   "source": [
    "## Funções gerais"
   ]
  },
  {
   "cell_type": "code",
   "execution_count": 4,
   "id": "5fb5095c",
   "metadata": {},
   "outputs": [],
   "source": [
    "def limparDados(dados:pd.DataFrame)->None:\n",
    "    dados.rename(columns={\"Unnamed: 0\": \"Cidades\", \"Abacaxi*\": \"Abacaxi\"}, inplace=True)\n",
    "    for x,y in enumerate(dados.Cidades):\n",
    "        dados.loc[x,\"Cidades\"] = y.replace(\" (MA)\", \"\")\n",
    "    dados.replace(\"-\", 0, regex=True, inplace=True)\n",
    "    dados.replace(\"...\", 0, inplace=True)\n",
    "    dados.set_index('Cidades', inplace = True)\n",
    "    dados.apply(pd.to_numeric)\n",
    "    dados = dados.loc[:, nome_culturas]\n",
    "\n",
    "def carregarDados(pathAno:str)->tuple:\n",
    "    # Carregando os dados\n",
    "    area_plantada = pd.read_excel(pathAno, header=4, skipfooter=1, sheet_name= sheet_name1)\n",
    "    area_colhida = pd.read_excel(pathAno, header=4, skipfooter=1, sheet_name= sheet_name1)\n",
    "    quantidade_produzida = pd.read_excel(pathAno, header=4, skipfooter=1, sheet_name= sheet_name1)\n",
    "    valor_producao = pd.read_excel(pathAno, header=4, skipfooter=1, sheet_name= sheet_name1)\n",
    "    \n",
    "    #Limpando os dados\n",
    "    limparDados(area_plantada)\n",
    "    limparDados(area_colhida)\n",
    "    limparDados(quantidade_produzida)\n",
    "    limparDados(valor_producao)\n",
    "    \n",
    "    area_plantada = area_plantada.loc[:, nome_culturas]\n",
    "    area_colhida = area_colhida.loc[:, nome_culturas]\n",
    "    quantidade_produzida = quantidade_produzida.loc[:, nome_culturas]\n",
    "    valor_producao = valor_producao.loc[:, nome_culturas]\n",
    "    \n",
    "    #Retorando os dados\n",
    "    return area_plantada, area_colhida, quantidade_produzida, valor_producao"
   ]
  },
  {
   "cell_type": "markdown",
   "id": "ae854663",
   "metadata": {},
   "source": [
    "## Dados 2020"
   ]
  },
  {
   "cell_type": "code",
   "execution_count": 5,
   "id": "26d1a69f",
   "metadata": {},
   "outputs": [],
   "source": [
    "path2020 = 'Dados/pma/2020.xlsx'\n",
    "area_plantada_2020, area_colhida_2020, quantidade_produzida_2020, valor_producao_2020 = carregarDados(path2020)"
   ]
  },
  {
   "cell_type": "markdown",
   "id": "175e03db",
   "metadata": {},
   "source": [
    "## Dados 2019"
   ]
  },
  {
   "cell_type": "code",
   "execution_count": 6,
   "id": "22968ecd",
   "metadata": {},
   "outputs": [],
   "source": [
    "path2019 = 'Dados/pma/2019.xlsx'\n",
    "area_plantada_2019, area_colhida_2019, quantidade_produzida_2019, valor_producao_2019 = carregarDados(path2019)"
   ]
  },
  {
   "cell_type": "markdown",
   "id": "4a18b651",
   "metadata": {},
   "source": [
    "## Dados 2018"
   ]
  },
  {
   "cell_type": "code",
   "execution_count": 7,
   "id": "2f613036",
   "metadata": {},
   "outputs": [],
   "source": [
    "path2018 = 'Dados/pma/2018.xlsx'\n",
    "area_plantada_2018, area_colhida_2018, quantidade_produzida_2018, valor_producao_2018 = carregarDados(path2018)"
   ]
  },
  {
   "cell_type": "markdown",
   "id": "c754dbcd",
   "metadata": {},
   "source": [
    "## Dados 2017"
   ]
  },
  {
   "cell_type": "code",
   "execution_count": 8,
   "id": "8dd4a953",
   "metadata": {},
   "outputs": [],
   "source": [
    "path2017 = 'Dados/pma/2017.xlsx'\n",
    "area_plantada_2017, area_colhida_2017, quantidade_produzida_2017, valor_producao_2017 = carregarDados(path2017)"
   ]
  },
  {
   "cell_type": "markdown",
   "id": "846d4fc0",
   "metadata": {},
   "source": [
    "## Dados 2016"
   ]
  },
  {
   "cell_type": "code",
   "execution_count": 9,
   "id": "16c046fc",
   "metadata": {},
   "outputs": [],
   "source": [
    "path2016 = 'Dados/pma/2016.xlsx'\n",
    "area_plantada_2016, area_colhida_2016, quantidade_produzida_2016, valor_producao_2016 = carregarDados(path2016)"
   ]
  },
  {
   "cell_type": "markdown",
   "id": "9b46908b",
   "metadata": {},
   "source": [
    "## Dados 2015"
   ]
  },
  {
   "cell_type": "code",
   "execution_count": 10,
   "id": "80f09daf",
   "metadata": {},
   "outputs": [],
   "source": [
    "path2015 = 'Dados/pma/2015.xlsx'\n",
    "area_plantada_2015, area_colhida_2015, quantidade_produzida_2015, valor_producao_2015 = carregarDados(path2015)"
   ]
  },
  {
   "cell_type": "markdown",
   "id": "5b5f29df",
   "metadata": {},
   "source": [
    "## Dados 2014"
   ]
  },
  {
   "cell_type": "code",
   "execution_count": 11,
   "id": "523b2465",
   "metadata": {},
   "outputs": [],
   "source": [
    "path2014 = 'Dados/pma/2014.xlsx'\n",
    "area_plantada_2014, area_colhida_2014, quantidade_produzida_2014, valor_producao_2014 = carregarDados(path2014)"
   ]
  },
  {
   "cell_type": "markdown",
   "id": "e73c4138",
   "metadata": {},
   "source": [
    "## Dados 2013"
   ]
  },
  {
   "cell_type": "code",
   "execution_count": 12,
   "id": "68cc1bd5",
   "metadata": {},
   "outputs": [],
   "source": [
    "path2013 = 'Dados/pma/2013.xlsx'\n",
    "area_plantada_2013, area_colhida_2013, quantidade_produzida_2013, valor_producao_2013 = carregarDados(path2013)"
   ]
  },
  {
   "cell_type": "markdown",
   "id": "d6d12f50",
   "metadata": {},
   "source": [
    "## Dados 2012"
   ]
  },
  {
   "cell_type": "code",
   "execution_count": 13,
   "id": "56ef318f",
   "metadata": {},
   "outputs": [],
   "source": [
    "path2012 = 'Dados/pma/2012.xlsx'\n",
    "area_plantada_2012, area_colhida_2012, quantidade_produzida_2012, valor_producao_2012 = carregarDados(path2012)"
   ]
  },
  {
   "cell_type": "markdown",
   "id": "5e440ac0",
   "metadata": {},
   "source": [
    "## Dados 2011"
   ]
  },
  {
   "cell_type": "code",
   "execution_count": 14,
   "id": "4d36d551",
   "metadata": {},
   "outputs": [],
   "source": [
    "path2011 = 'Dados/pma/2011.xlsx'\n",
    "area_plantada_2011, area_colhida_2011, quantidade_produzida_2011, valor_producao_2011 = carregarDados(path2011)"
   ]
  },
  {
   "cell_type": "markdown",
   "id": "a0939687",
   "metadata": {},
   "source": [
    "## Exemplo de saída"
   ]
  },
  {
   "cell_type": "code",
   "execution_count": 15,
   "id": "2f438c35",
   "metadata": {},
   "outputs": [
    {
     "data": {
      "text/html": [
       "<div>\n",
       "<style scoped>\n",
       "    .dataframe tbody tr th:only-of-type {\n",
       "        vertical-align: middle;\n",
       "    }\n",
       "\n",
       "    .dataframe tbody tr th {\n",
       "        vertical-align: top;\n",
       "    }\n",
       "\n",
       "    .dataframe thead th {\n",
       "        text-align: right;\n",
       "    }\n",
       "</style>\n",
       "<table border=\"1\" class=\"dataframe\">\n",
       "  <thead>\n",
       "    <tr style=\"text-align: right;\">\n",
       "      <th></th>\n",
       "      <th>Total</th>\n",
       "      <th>Abacaxi</th>\n",
       "      <th>Algodão herbáceo (em caroço)</th>\n",
       "      <th>Arroz (em casca)</th>\n",
       "      <th>Cana-de-açúcar</th>\n",
       "      <th>Feijão (em grão)</th>\n",
       "      <th>Mandioca</th>\n",
       "      <th>Milho (em grão)</th>\n",
       "      <th>Soja (em grão)</th>\n",
       "      <th>Sorgo (em grão)</th>\n",
       "    </tr>\n",
       "    <tr>\n",
       "      <th>Cidades</th>\n",
       "      <th></th>\n",
       "      <th></th>\n",
       "      <th></th>\n",
       "      <th></th>\n",
       "      <th></th>\n",
       "      <th></th>\n",
       "      <th></th>\n",
       "      <th></th>\n",
       "      <th></th>\n",
       "      <th></th>\n",
       "    </tr>\n",
       "  </thead>\n",
       "  <tbody>\n",
       "    <tr>\n",
       "      <th>Açailândia</th>\n",
       "      <td>4131</td>\n",
       "      <td>0</td>\n",
       "      <td>0</td>\n",
       "      <td>1100</td>\n",
       "      <td>0</td>\n",
       "      <td>378</td>\n",
       "      <td>40</td>\n",
       "      <td>2400</td>\n",
       "      <td>210</td>\n",
       "      <td>0</td>\n",
       "    </tr>\n",
       "    <tr>\n",
       "      <th>Afonso Cunha</th>\n",
       "      <td>2323</td>\n",
       "      <td>0</td>\n",
       "      <td>0</td>\n",
       "      <td>608</td>\n",
       "      <td>14</td>\n",
       "      <td>114</td>\n",
       "      <td>115</td>\n",
       "      <td>508</td>\n",
       "      <td>960</td>\n",
       "      <td>0</td>\n",
       "    </tr>\n",
       "    <tr>\n",
       "      <th>Água Doce do Maranhão</th>\n",
       "      <td>3626</td>\n",
       "      <td>0</td>\n",
       "      <td>0</td>\n",
       "      <td>0</td>\n",
       "      <td>2</td>\n",
       "      <td>800</td>\n",
       "      <td>1834</td>\n",
       "      <td>960</td>\n",
       "      <td>0</td>\n",
       "      <td>0</td>\n",
       "    </tr>\n",
       "    <tr>\n",
       "      <th>Alcântara</th>\n",
       "      <td>2030</td>\n",
       "      <td>0</td>\n",
       "      <td>0</td>\n",
       "      <td>459</td>\n",
       "      <td>0</td>\n",
       "      <td>180</td>\n",
       "      <td>1214</td>\n",
       "      <td>159</td>\n",
       "      <td>0</td>\n",
       "      <td>0</td>\n",
       "    </tr>\n",
       "    <tr>\n",
       "      <th>Aldeias Altas</th>\n",
       "      <td>12372</td>\n",
       "      <td>0</td>\n",
       "      <td>0</td>\n",
       "      <td>2525</td>\n",
       "      <td>7257</td>\n",
       "      <td>408</td>\n",
       "      <td>400</td>\n",
       "      <td>1767</td>\n",
       "      <td>0</td>\n",
       "      <td>0</td>\n",
       "    </tr>\n",
       "  </tbody>\n",
       "</table>\n",
       "</div>"
      ],
      "text/plain": [
       "                       Total  Abacaxi  Algodão herbáceo (em caroço)  \\\n",
       "Cidades                                                               \n",
       "Açailândia              4131        0                             0   \n",
       "Afonso Cunha            2323        0                             0   \n",
       "Água Doce do Maranhão   3626        0                             0   \n",
       "Alcântara               2030        0                             0   \n",
       "Aldeias Altas          12372        0                             0   \n",
       "\n",
       "                       Arroz (em casca)  Cana-de-açúcar  Feijão (em grão)  \\\n",
       "Cidades                                                                     \n",
       "Açailândia                         1100               0               378   \n",
       "Afonso Cunha                        608              14               114   \n",
       "Água Doce do Maranhão                 0               2               800   \n",
       "Alcântara                           459               0               180   \n",
       "Aldeias Altas                      2525            7257               408   \n",
       "\n",
       "                       Mandioca  Milho (em grão)  Soja (em grão)  \\\n",
       "Cidades                                                            \n",
       "Açailândia                   40             2400             210   \n",
       "Afonso Cunha                115              508             960   \n",
       "Água Doce do Maranhão      1834              960               0   \n",
       "Alcântara                  1214              159               0   \n",
       "Aldeias Altas               400             1767               0   \n",
       "\n",
       "                       Sorgo (em grão)  \n",
       "Cidades                                 \n",
       "Açailândia                           0  \n",
       "Afonso Cunha                         0  \n",
       "Água Doce do Maranhão                0  \n",
       "Alcântara                            0  \n",
       "Aldeias Altas                        0  "
      ]
     },
     "execution_count": 15,
     "metadata": {},
     "output_type": "execute_result"
    }
   ],
   "source": [
    "area_plantada_2011.head()"
   ]
  },
  {
   "cell_type": "markdown",
   "id": "0148a250",
   "metadata": {},
   "source": [
    "## Todos os dados"
   ]
  },
  {
   "cell_type": "code",
   "execution_count": 29,
   "id": "d10d330a",
   "metadata": {},
   "outputs": [],
   "source": [
    "area_plantada_gerais = [area_plantada_2011, area_plantada_2012, area_plantada_2013, area_plantada_2014, area_plantada_2015, area_plantada_2016, area_plantada_2017, area_plantada_2018, area_plantada_2019, area_plantada_2020]\n",
    "area_colhida_gerais = [area_colhida_2011, area_colhida_2012, area_colhida_2013, area_colhida_2014, area_colhida_2015, area_colhida_2016, area_colhida_2017, area_colhida_2018, area_colhida_2019, area_colhida_2020]\n",
    "quantidade_produzida_gerais = [quantidade_produzida_2012, quantidade_produzida_2013, quantidade_produzida_2014, quantidade_produzida_2015, quantidade_produzida_2016, quantidade_produzida_2017, quantidade_produzida_2018, quantidade_produzida_2019, quantidade_produzida_2020]\n",
    "valor_producao_gerais = [valor_producao_2011, valor_producao_2012, valor_producao_2013, valor_producao_2014, valor_producao_2015, valor_producao_2016, valor_producao_2017, valor_producao_2018, valor_producao_2019, valor_producao_2020]\n",
    "anos = [2011, 2012, 2013, 2014, 2015, 2016, 2017, 2018, 2019, 2020]"
   ]
  },
  {
   "cell_type": "code",
   "execution_count": 19,
   "id": "8f141fcd",
   "metadata": {},
   "outputs": [
    {
     "data": {
      "text/html": [
       "<div>\n",
       "<style scoped>\n",
       "    .dataframe tbody tr th:only-of-type {\n",
       "        vertical-align: middle;\n",
       "    }\n",
       "\n",
       "    .dataframe tbody tr th {\n",
       "        vertical-align: top;\n",
       "    }\n",
       "\n",
       "    .dataframe thead th {\n",
       "        text-align: right;\n",
       "    }\n",
       "</style>\n",
       "<table border=\"1\" class=\"dataframe\">\n",
       "  <thead>\n",
       "    <tr style=\"text-align: right;\">\n",
       "      <th></th>\n",
       "      <th>Total</th>\n",
       "      <th>Abacaxi</th>\n",
       "      <th>Algodão herbáceo (em caroço)</th>\n",
       "      <th>Arroz (em casca)</th>\n",
       "      <th>Cana-de-açúcar</th>\n",
       "      <th>Feijão (em grão)</th>\n",
       "      <th>Mandioca</th>\n",
       "      <th>Milho (em grão)</th>\n",
       "      <th>Soja (em grão)</th>\n",
       "      <th>Sorgo (em grão)</th>\n",
       "    </tr>\n",
       "    <tr>\n",
       "      <th>Cidades</th>\n",
       "      <th></th>\n",
       "      <th></th>\n",
       "      <th></th>\n",
       "      <th></th>\n",
       "      <th></th>\n",
       "      <th></th>\n",
       "      <th></th>\n",
       "      <th></th>\n",
       "      <th></th>\n",
       "      <th></th>\n",
       "    </tr>\n",
       "  </thead>\n",
       "  <tbody>\n",
       "    <tr>\n",
       "      <th>Açailândia</th>\n",
       "      <td>4131</td>\n",
       "      <td>0</td>\n",
       "      <td>0</td>\n",
       "      <td>1100</td>\n",
       "      <td>0</td>\n",
       "      <td>378</td>\n",
       "      <td>40</td>\n",
       "      <td>2400</td>\n",
       "      <td>210</td>\n",
       "      <td>0</td>\n",
       "    </tr>\n",
       "    <tr>\n",
       "      <th>Afonso Cunha</th>\n",
       "      <td>2323</td>\n",
       "      <td>0</td>\n",
       "      <td>0</td>\n",
       "      <td>608</td>\n",
       "      <td>14</td>\n",
       "      <td>114</td>\n",
       "      <td>115</td>\n",
       "      <td>508</td>\n",
       "      <td>960</td>\n",
       "      <td>0</td>\n",
       "    </tr>\n",
       "    <tr>\n",
       "      <th>Água Doce do Maranhão</th>\n",
       "      <td>3626</td>\n",
       "      <td>0</td>\n",
       "      <td>0</td>\n",
       "      <td>0</td>\n",
       "      <td>2</td>\n",
       "      <td>800</td>\n",
       "      <td>1834</td>\n",
       "      <td>960</td>\n",
       "      <td>0</td>\n",
       "      <td>0</td>\n",
       "    </tr>\n",
       "    <tr>\n",
       "      <th>Alcântara</th>\n",
       "      <td>2030</td>\n",
       "      <td>0</td>\n",
       "      <td>0</td>\n",
       "      <td>459</td>\n",
       "      <td>0</td>\n",
       "      <td>180</td>\n",
       "      <td>1214</td>\n",
       "      <td>159</td>\n",
       "      <td>0</td>\n",
       "      <td>0</td>\n",
       "    </tr>\n",
       "    <tr>\n",
       "      <th>Aldeias Altas</th>\n",
       "      <td>12372</td>\n",
       "      <td>0</td>\n",
       "      <td>0</td>\n",
       "      <td>2525</td>\n",
       "      <td>7257</td>\n",
       "      <td>408</td>\n",
       "      <td>400</td>\n",
       "      <td>1767</td>\n",
       "      <td>0</td>\n",
       "      <td>0</td>\n",
       "    </tr>\n",
       "  </tbody>\n",
       "</table>\n",
       "</div>"
      ],
      "text/plain": [
       "                       Total  Abacaxi  Algodão herbáceo (em caroço)  \\\n",
       "Cidades                                                               \n",
       "Açailândia              4131        0                             0   \n",
       "Afonso Cunha            2323        0                             0   \n",
       "Água Doce do Maranhão   3626        0                             0   \n",
       "Alcântara               2030        0                             0   \n",
       "Aldeias Altas          12372        0                             0   \n",
       "\n",
       "                       Arroz (em casca)  Cana-de-açúcar  Feijão (em grão)  \\\n",
       "Cidades                                                                     \n",
       "Açailândia                         1100               0               378   \n",
       "Afonso Cunha                        608              14               114   \n",
       "Água Doce do Maranhão                 0               2               800   \n",
       "Alcântara                           459               0               180   \n",
       "Aldeias Altas                      2525            7257               408   \n",
       "\n",
       "                       Mandioca  Milho (em grão)  Soja (em grão)  \\\n",
       "Cidades                                                            \n",
       "Açailândia                   40             2400             210   \n",
       "Afonso Cunha                115              508             960   \n",
       "Água Doce do Maranhão      1834              960               0   \n",
       "Alcântara                  1214              159               0   \n",
       "Aldeias Altas               400             1767               0   \n",
       "\n",
       "                       Sorgo (em grão)  \n",
       "Cidades                                 \n",
       "Açailândia                           0  \n",
       "Afonso Cunha                         0  \n",
       "Água Doce do Maranhão                0  \n",
       "Alcântara                            0  \n",
       "Aldeias Altas                        0  "
      ]
     },
     "execution_count": 19,
     "metadata": {},
     "output_type": "execute_result"
    }
   ],
   "source": [
    "area_plantada_2011.head()"
   ]
  },
  {
   "cell_type": "markdown",
   "id": "8009781c",
   "metadata": {},
   "source": [
    "## Agrupando dados por tipo"
   ]
  },
  {
   "cell_type": "markdown",
   "id": "4abe3913",
   "metadata": {},
   "source": [
    "### Área Plantada"
   ]
  },
  {
   "cell_type": "code",
   "execution_count": 22,
   "id": "271b132e",
   "metadata": {},
   "outputs": [],
   "source": [
    "area_plantada_set_total = {f'total_{anos[x]}': area_plantada_gerais[x]['Total'] for x in range(len(area_plantada_gerais))}\n",
    "area_plantada_set_abacaxi = {f'Abacaxi_{anos[x]}': area_plantada_gerais[x]['Abacaxi'] for x in range(len(area_plantada_gerais))}\n",
    "area_plantada_set_algodao = {f'Algodão_{anos[x]}': area_plantada_gerais[x]['Algodão herbáceo (em caroço)'] for x in range(len(area_plantada_gerais))}\n",
    "area_plantada_set_arroz = {f'Arroz_{anos[x]}': area_plantada_gerais[x]['Arroz (em casca)'] for x in range(len(area_plantada_gerais))}\n",
    "area_plantada_set_cana = {f'CanaDeAcucar_{anos[x]}': area_plantada_gerais[x]['Cana-de-açúcar'] for x in range(len(area_plantada_gerais))}\n",
    "area_plantada_set_feijao = {f'feijao_{anos[x]}': area_plantada_gerais[x]['Feijão (em grão)'] for x in range(len(area_plantada_gerais))}\n",
    "area_plantada_set_mandioca = {f'mandioca_{anos[x]}': area_plantada_gerais[x]['Mandioca'] for x in range(len(area_plantada_gerais))}\n",
    "area_plantada_set_milho = {f'milho_{anos[x]}': area_plantada_gerais[x]['Milho (em grão)'] for x in range(len(area_plantada_gerais))}\n",
    "area_plantada_set_soja = {f'soja_{anos[x]}': area_plantada_gerais[x]['Soja (em grão)'] for x in range(len(area_plantada_gerais))}\n",
    "area_plantada_set_sorgo = {f'sorgo_{anos[x]}': area_plantada_gerais[x]['Sorgo (em grão)'] for x in range(len(area_plantada_gerais))}"
   ]
  },
  {
   "cell_type": "code",
   "execution_count": 25,
   "id": "da2dcb62",
   "metadata": {},
   "outputs": [],
   "source": [
    "area_plantada_total = pd.DataFrame(area_plantada_set_total).to_csv(\"Dados_Tratados/area_plantada_total.csv\")\n",
    "area_plantada_abacaxi = pd.DataFrame(area_plantada_set_abacaxi).to_csv(\"Dados_Tratados/area_plantada_abacaxi.csv\")\n",
    "area_plantada_algodao = pd.DataFrame(area_plantada_set_algodao).to_csv(\"Dados_Tratados/area_plantada_algodao.csv\")\n",
    "area_plantada_arroz = pd.DataFrame(area_plantada_set_arroz).to_csv(\"Dados_Tratados/area_plantada_arroz.csv\")\n",
    "area_plantada_cana = pd.DataFrame(area_plantada_set_cana).to_csv(\"Dados_Tratados/area_plantada_cana.csv\")\n",
    "area_plantada_feijao = pd.DataFrame(area_plantada_set_feijao).to_csv(\"Dados_Tratados/area_plantada_feijao.csv\")\n",
    "area_plantada_mandioca = pd.DataFrame(area_plantada_set_mandioca).to_csv(\"Dados_Tratados/area_plantada_mandioca.csv\")\n",
    "area_plantada_milho = pd.DataFrame(area_plantada_set_milho).to_csv(\"Dados_Tratados/area_plantada_milho.csv\")\n",
    "area_plantada_soja = pd.DataFrame(area_plantada_set_soja).to_csv(\"Dados_Tratados/area_plantada_soja.csv\")\n",
    "area_plantada_sorgo = pd.DataFrame(area_plantada_set_sorgo).to_csv(\"Dados_Tratados/area_plantada_sorgo.csv\")\n"
   ]
  },
  {
   "cell_type": "code",
   "execution_count": null,
   "id": "a59ebe82",
   "metadata": {},
   "outputs": [],
   "source": []
  },
  {
   "cell_type": "markdown",
   "id": "4ceac048",
   "metadata": {},
   "source": [
    "## Área colhida"
   ]
  },
  {
   "cell_type": "code",
   "execution_count": 26,
   "id": "a08a5466",
   "metadata": {},
   "outputs": [],
   "source": [
    "area_colhida_set_total = {f'total_{anos[x]}': area_colhida_gerais[x]['Total'] for x in range(len(area_colhida_gerais))}\n",
    "area_colhida_set_abacaxi = {f'Abacaxi_{anos[x]}': area_colhida_gerais[x]['Abacaxi'] for x in range(len(area_colhida_gerais))}\n",
    "area_colhida_set_algodao = {f'Algodão_{anos[x]}': area_colhida_gerais[x]['Algodão herbáceo (em caroço)'] for x in range(len(area_colhida_gerais))}\n",
    "area_colhida_set_arroz = {f'Arroz_{anos[x]}': area_colhida_gerais[x]['Arroz (em casca)'] for x in range(len(area_colhida_gerais))}\n",
    "area_colhida_set_cana = {f'CanaDeAcucar_{anos[x]}': area_colhida_gerais[x]['Cana-de-açúcar'] for x in range(len(area_colhida_gerais))}\n",
    "area_colhida_set_feijao = {f'feijao_{anos[x]}': area_colhida_gerais[x]['Feijão (em grão)'] for x in range(len(area_colhida_gerais))}\n",
    "area_colhida_set_mandioca = {f'mandioca_{anos[x]}': area_colhida_gerais[x]['Mandioca'] for x in range(len(area_colhida_gerais))}\n",
    "area_colhida_set_milho = {f'milho_{anos[x]}': area_colhida_gerais[x]['Milho (em grão)'] for x in range(len(area_colhida_gerais))}\n",
    "area_colhida_set_soja = {f'soja_{anos[x]}': area_colhida_gerais[x]['Soja (em grão)'] for x in range(len(area_colhida_gerais))}\n",
    "area_colhida_set_sorgo = {f'sorgo_{anos[x]}': area_colhida_gerais[x]['Sorgo (em grão)'] for x in range(len(area_colhida_gerais))}"
   ]
  },
  {
   "cell_type": "code",
   "execution_count": 27,
   "id": "f887e4e7",
   "metadata": {},
   "outputs": [],
   "source": [
    "area_colhida_total = pd.DataFrame(area_colhida_set_total).to_csv(\"Dados_Tratados/area_colhida_total.csv\")\n",
    "area_colhida_abacaxi = pd.DataFrame(area_colhida_set_abacaxi).to_csv(\"Dados_Tratados/area_colhida_abacaxi.csv\")\n",
    "area_colhida_algodao = pd.DataFrame(area_colhida_set_algodao).to_csv(\"Dados_Tratados/area_colhida_algodao.csv\")\n",
    "area_colhida_arroz = pd.DataFrame(area_colhida_set_arroz).to_csv(\"Dados_Tratados/area_colhida_arroz.csv\")\n",
    "area_colhida_cana = pd.DataFrame(area_colhida_set_cana).to_csv(\"Dados_Tratados/area_colhida_cana.csv\")\n",
    "area_colhida_feijao = pd.DataFrame(area_colhida_set_feijao).to_csv(\"Dados_Tratados/area_colhida_feijao.csv\")\n",
    "area_colhida_mandioca = pd.DataFrame(area_colhida_set_mandioca).to_csv(\"Dados_Tratados/area_colhida_mandioca.csv\")\n",
    "area_colhida_milho = pd.DataFrame(area_colhida_set_milho).to_csv(\"Dados_Tratados/area_colhida_milho.csv\")\n",
    "area_colhida_soja = pd.DataFrame(area_colhida_set_soja).to_csv(\"Dados_Tratados/area_colhida_soja.csv\")\n",
    "area_colhida_sorgo = pd.DataFrame(area_colhida_set_sorgo).to_csv(\"Dados_Tratados/area_colhida_sorgo.csv\")"
   ]
  },
  {
   "cell_type": "code",
   "execution_count": null,
   "id": "2cd1d125",
   "metadata": {},
   "outputs": [],
   "source": []
  },
  {
   "cell_type": "markdown",
   "id": "a432952a",
   "metadata": {},
   "source": [
    "## Área produzida"
   ]
  },
  {
   "cell_type": "code",
   "execution_count": 30,
   "id": "455aa900",
   "metadata": {},
   "outputs": [],
   "source": [
    "quantidade_produzida_set_total = {f'total_{anos[x]}': quantidade_produzida_gerais[x]['Total'] for x in range(len(quantidade_produzida_gerais))}\n",
    "quantidade_produzida_set_abacaxi = {f'Abacaxi_{anos[x]}': quantidade_produzida_gerais[x]['Abacaxi'] for x in range(len(quantidade_produzida_gerais))}\n",
    "quantidade_produzida_set_algodao = {f'Algodão_{anos[x]}': quantidade_produzida_gerais[x]['Algodão herbáceo (em caroço)'] for x in range(len(quantidade_produzida_gerais))}\n",
    "quantidade_produzida_set_arroz = {f'Arroz_{anos[x]}': quantidade_produzida_gerais[x]['Arroz (em casca)'] for x in range(len(quantidade_produzida_gerais))}\n",
    "quantidade_produzida_set_cana = {f'CanaDeAcucar_{anos[x]}': quantidade_produzida_gerais[x]['Cana-de-açúcar'] for x in range(len(quantidade_produzida_gerais))}\n",
    "quantidade_produzida_set_feijao = {f'feijao_{anos[x]}': quantidade_produzida_gerais[x]['Feijão (em grão)'] for x in range(len(quantidade_produzida_gerais))}\n",
    "quantidade_produzida_set_mandioca = {f'mandioca_{anos[x]}': quantidade_produzida_gerais[x]['Mandioca'] for x in range(len(quantidade_produzida_gerais))}\n",
    "quantidade_produzida_set_milho = {f'milho_{anos[x]}': quantidade_produzida_gerais[x]['Milho (em grão)'] for x in range(len(quantidade_produzida_gerais))}\n",
    "quantidade_produzida_set_soja = {f'soja_{anos[x]}': quantidade_produzida_gerais[x]['Soja (em grão)'] for x in range(len(quantidade_produzida_gerais))}\n",
    "quantidade_produzida_set_sorgo = {f'sorgo_{anos[x]}': quantidade_produzida_gerais[x]['Sorgo (em grão)'] for x in range(len(quantidade_produzida_gerais))}"
   ]
  },
  {
   "cell_type": "code",
   "execution_count": 31,
   "id": "eb55ab4f",
   "metadata": {},
   "outputs": [],
   "source": [
    "\n",
    "quantidade_produzida_total = pd.DataFrame(quantidade_produzida_set_total).to_csv(\"Dados_Tratados/quantidade_produzida_total.csv\")\n",
    "quantidade_produzida_abacaxi = pd.DataFrame(quantidade_produzida_set_abacaxi).to_csv(\"Dados_Tratados/quantidade_produzida_abacaxi.csv\")\n",
    "quantidade_produzida_algodao = pd.DataFrame(quantidade_produzida_set_algodao).to_csv(\"Dados_Tratados/quantidade_produzida_algodao.csv\")\n",
    "quantidade_produzida_arroz = pd.DataFrame(quantidade_produzida_set_arroz).to_csv(\"Dados_Tratados/quantidade_produzida_arroz.csv\")\n",
    "quantidade_produzida_cana = pd.DataFrame(quantidade_produzida_set_cana).to_csv(\"Dados_Tratados/quantidade_produzida_cana.csv\")\n",
    "quantidade_produzida_feijao = pd.DataFrame(quantidade_produzida_set_feijao).to_csv(\"Dados_Tratados/quantidade_produzida_feijao.csv\")\n",
    "quantidade_produzida_mandioca = pd.DataFrame(quantidade_produzida_set_mandioca).to_csv(\"Dados_Tratados/quantidade_produzida_mandioca.csv\")\n",
    "quantidade_produzida_milho = pd.DataFrame(quantidade_produzida_set_milho).to_csv(\"Dados_Tratados/quantidade_produzida_milho.csv\")\n",
    "quantidade_produzida_soja = pd.DataFrame(quantidade_produzida_set_soja).to_csv(\"Dados_Tratados/quantidade_produzida_soja.csv\")\n",
    "quantidade_produzida_sorgo = pd.DataFrame(quantidade_produzida_set_sorgo).to_csv(\"Dados_Tratados/quantidade_produzida_sorgo.csv\")\n"
   ]
  },
  {
   "cell_type": "markdown",
   "id": "156cef9f",
   "metadata": {},
   "source": [
    "## Valor total"
   ]
  },
  {
   "cell_type": "code",
   "execution_count": 33,
   "id": "25a8194d",
   "metadata": {},
   "outputs": [],
   "source": [
    "valor_producao_set_total = {f'total_{anos[x]}': valor_producao_gerais[x]['Total'] for x in range(len(valor_producao_gerais))}\n",
    "valor_producao_set_abacaxi = {f'Abacaxi_{anos[x]}': valor_producao_gerais[x]['Abacaxi'] for x in range(len(valor_producao_gerais))}\n",
    "valor_producao_set_algodao = {f'Algodão_{anos[x]}': valor_producao_gerais[x]['Algodão herbáceo (em caroço)'] for x in range(len(valor_producao_gerais))}\n",
    "valor_producao_set_arroz = {f'Arroz_{anos[x]}': valor_producao_gerais[x]['Arroz (em casca)'] for x in range(len(valor_producao_gerais))}\n",
    "valor_producao_set_cana = {f'CanaDeAcucar_{anos[x]}': valor_producao_gerais[x]['Cana-de-açúcar'] for x in range(len(valor_producao_gerais))}\n",
    "valor_producao_set_feijao = {f'feijao_{anos[x]}': valor_producao_gerais[x]['Feijão (em grão)'] for x in range(len(valor_producao_gerais))}\n",
    "valor_producao_set_mandioca = {f'mandioca_{anos[x]}': valor_producao_gerais[x]['Mandioca'] for x in range(len(valor_producao_gerais))}\n",
    "valor_producao_set_milho = {f'milho_{anos[x]}': valor_producao_gerais[x]['Milho (em grão)'] for x in range(len(valor_producao_gerais))}\n",
    "valor_producao_set_soja = {f'soja_{anos[x]}': valor_producao_gerais[x]['Soja (em grão)'] for x in range(len(valor_producao_gerais))}\n",
    "valor_producao_set_sorgo = {f'sorgo_{anos[x]}': valor_producao_gerais[x]['Sorgo (em grão)'] for x in range(len(valor_producao_gerais))}"
   ]
  },
  {
   "cell_type": "code",
   "execution_count": 34,
   "id": "3e53550b",
   "metadata": {},
   "outputs": [],
   "source": [
    "\n",
    "valor_producao_total = pd.DataFrame(valor_producao_set_total).to_csv(\"Dados_Tratados/valor_producao_total.csv\")\n",
    "valor_producao_abacaxi = pd.DataFrame(valor_producao_set_abacaxi).to_csv(\"Dados_Tratados/valor_producao_abacaxi.csv\")\n",
    "valor_producao_algodao = pd.DataFrame(valor_producao_set_algodao).to_csv(\"Dados_Tratados/valor_producao_algodao.csv\")\n",
    "valor_producao_arroz = pd.DataFrame(valor_producao_set_arroz).to_csv(\"Dados_Tratados/valor_producao_arroz.csv\")\n",
    "valor_producao_cana = pd.DataFrame(valor_producao_set_cana).to_csv(\"Dados_Tratados/valor_producao_cana.csv\")\n",
    "valor_producao_feijao = pd.DataFrame(valor_producao_set_feijao).to_csv(\"Dados_Tratados/valor_producao_feijao.csv\")\n",
    "valor_producao_mandioca = pd.DataFrame(valor_producao_set_mandioca).to_csv(\"Dados_Tratados/valor_producao_mandioca.csv\")\n",
    "valor_producao_milho = pd.DataFrame(valor_producao_set_milho).to_csv(\"Dados_Tratados/valor_producao_milho.csv\")\n",
    "valor_producao_soja = pd.DataFrame(valor_producao_set_soja).to_csv(\"Dados_Tratados/valor_producao_soja.csv\")\n",
    "valor_producao_sorgo = pd.DataFrame(valor_producao_set_sorgo).to_csv(\"Dados_Tratados/quantidade_produzida_sorgo.csv\")\n"
   ]
  },
  {
   "cell_type": "code",
   "execution_count": null,
   "id": "14ded356",
   "metadata": {},
   "outputs": [],
   "source": []
  }
 ],
 "metadata": {
  "kernelspec": {
   "display_name": "Python 3",
   "language": "python",
   "name": "python3"
  },
  "language_info": {
   "codemirror_mode": {
    "name": "ipython",
    "version": 3
   },
   "file_extension": ".py",
   "mimetype": "text/x-python",
   "name": "python",
   "nbconvert_exporter": "python",
   "pygments_lexer": "ipython3",
   "version": "3.8.8"
  }
 },
 "nbformat": 4,
 "nbformat_minor": 5
}
