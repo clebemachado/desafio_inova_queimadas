{
 "cells": [
  {
   "cell_type": "markdown",
   "id": "b9998e6a",
   "metadata": {},
   "source": [
    "# Datraframe do PMA do estado do Maranhão"
   ]
  },
  {
   "cell_type": "markdown",
   "id": "44e10ed2",
   "metadata": {},
   "source": [
    "### Foram divididos em 4 dataframes:\n",
    "<ol>\n",
    "    <li>Área plantada</li>\n",
    "    <li>Área colhida (Hectares)</li>\n",
    "    <li>Quantidade produzida (Toneladas)</li>\n",
    "    <li>Valor da produção (Mil Reais)</li>\n",
    "</ol>"
   ]
  },
  {
   "cell_type": "code",
   "execution_count": 1,
   "id": "9b225d4d",
   "metadata": {},
   "outputs": [],
   "source": [
    "import pandas as pd"
   ]
  },
  {
   "cell_type": "markdown",
   "id": "61533dd9",
   "metadata": {},
   "source": [
    "## Variáveis gerais"
   ]
  },
  {
   "cell_type": "code",
   "execution_count": 2,
   "id": "6c0c5a29",
   "metadata": {},
   "outputs": [],
   "source": [
    "sheet_name1 = \"Área plantada (Hectares)\"\n",
    "sheet_name2 = \"Área colhida (Hectares)\"\n",
    "sheet_name3 = \"Quantidade produzida (Tonela...\"\n",
    "sheet_name4 = \"Valor da produção (Mil Reais)\""
   ]
  },
  {
   "cell_type": "markdown",
   "id": "5d6ff289",
   "metadata": {},
   "source": [
    "## Funções gerais"
   ]
  },
  {
   "cell_type": "code",
   "execution_count": 3,
   "id": "5fb5095c",
   "metadata": {},
   "outputs": [],
   "source": [
    "def limparDados(dados:pd.DataFrame)->None:\n",
    "    dados.rename(columns={\"Unnamed: 0\": \"Cidades\"}, inplace=True)\n",
    "    for x,y in enumerate(dados.Cidades):\n",
    "        dados.loc[x,\"Cidades\"] = y.replace(\" (MA)\", \"\")\n",
    "    dados.replace(\"-\", 0, regex=True, inplace=True)\n",
    "    dados.replace(\"...\", 0, inplace=True)\n",
    "    dados.set_index('Cidades', inplace = True)\n",
    "    dados.apply(pd.to_numeric)\n",
    "\n",
    "def carregarDados(pathAno:str)->tuple:\n",
    "    # Carregando os dados\n",
    "    area_plantada = pd.read_excel(pathAno, header=4, skipfooter=1, sheet_name= sheet_name1)\n",
    "    area_colhida = pd.read_excel(pathAno, header=4, skipfooter=1, sheet_name= sheet_name1)\n",
    "    quantidade_produzida = pd.read_excel(pathAno, header=4, skipfooter=1, sheet_name= sheet_name1)\n",
    "    valor_producao = pd.read_excel(pathAno, header=4, skipfooter=1, sheet_name= sheet_name1)\n",
    "    \n",
    "    #Limpando os dados\n",
    "    limparDados(area_plantada)\n",
    "    limparDados(area_colhida)\n",
    "    limparDados(quantidade_produzida)\n",
    "    limparDados(valor_producao)\n",
    "    \n",
    "    #Retorando os dados\n",
    "    return area_plantada, area_colhida, quantidade_produzida, valor_producao"
   ]
  },
  {
   "cell_type": "markdown",
   "id": "ae854663",
   "metadata": {},
   "source": [
    "## Dados 2020"
   ]
  },
  {
   "cell_type": "code",
   "execution_count": 4,
   "id": "26d1a69f",
   "metadata": {},
   "outputs": [],
   "source": [
    "path2020 = 'Dados/pma/2020.xlsx'\n",
    "area_plantada_2020, area_colhida_2020, quantidade_produzida_2020, valor_producao_2020 = carregarDados(path2020)"
   ]
  },
  {
   "cell_type": "markdown",
   "id": "175e03db",
   "metadata": {},
   "source": [
    "## Dados 2019"
   ]
  },
  {
   "cell_type": "code",
   "execution_count": 5,
   "id": "22968ecd",
   "metadata": {},
   "outputs": [],
   "source": [
    "path2019 = 'Dados/pma/2019.xlsx'\n",
    "area_plantada_2019, area_colhida_2019, quantidade_produzida_2019, valor_producao_2019 = carregarDados(path2019)"
   ]
  },
  {
   "cell_type": "markdown",
   "id": "4a18b651",
   "metadata": {},
   "source": [
    "## Dados 2018"
   ]
  },
  {
   "cell_type": "code",
   "execution_count": 6,
   "id": "2f613036",
   "metadata": {},
   "outputs": [],
   "source": [
    "path2018 = 'Dados/pma/2018.xlsx'\n",
    "area_plantada_2018, area_colhida_2018, quantidade_produzida_2018, valor_producao_2018 = carregarDados(path2018)"
   ]
  },
  {
   "cell_type": "markdown",
   "id": "c754dbcd",
   "metadata": {},
   "source": [
    "## Dados 2017"
   ]
  },
  {
   "cell_type": "code",
   "execution_count": 7,
   "id": "8dd4a953",
   "metadata": {},
   "outputs": [],
   "source": [
    "path2017 = 'Dados/pma/2017.xlsx'\n",
    "area_plantada_2017, area_colhida_2017, quantidade_produzida_2017, valor_producao_2017 = carregarDados(path2017)"
   ]
  },
  {
   "cell_type": "markdown",
   "id": "846d4fc0",
   "metadata": {},
   "source": [
    "## Dados 2016"
   ]
  },
  {
   "cell_type": "code",
   "execution_count": 8,
   "id": "16c046fc",
   "metadata": {},
   "outputs": [],
   "source": [
    "path2016 = 'Dados/pma/2016.xlsx'\n",
    "area_plantada_2016, area_colhida_2016, quantidade_produzida_2016, valor_producao_2016 = carregarDados(path2016)"
   ]
  },
  {
   "cell_type": "markdown",
   "id": "9b46908b",
   "metadata": {},
   "source": [
    "## Dados 2015"
   ]
  },
  {
   "cell_type": "code",
   "execution_count": 9,
   "id": "80f09daf",
   "metadata": {},
   "outputs": [],
   "source": [
    "path2015 = 'Dados/pma/2015.xlsx'\n",
    "area_plantada_2015, area_colhida_2015, quantidade_produzida_2015, valor_producao_2015 = carregarDados(path2015)"
   ]
  },
  {
   "cell_type": "markdown",
   "id": "5b5f29df",
   "metadata": {},
   "source": [
    "## Dados 2014"
   ]
  },
  {
   "cell_type": "code",
   "execution_count": 10,
   "id": "523b2465",
   "metadata": {},
   "outputs": [],
   "source": [
    "path2014 = 'Dados/pma/2014.xlsx'\n",
    "area_plantada_2014, area_colhida_2014, quantidade_produzida_2014, valor_producao_2014 = carregarDados(path2014)"
   ]
  },
  {
   "cell_type": "markdown",
   "id": "e73c4138",
   "metadata": {},
   "source": [
    "## Dados 2013"
   ]
  },
  {
   "cell_type": "code",
   "execution_count": 11,
   "id": "68cc1bd5",
   "metadata": {},
   "outputs": [],
   "source": [
    "path2013 = 'Dados/pma/2013.xlsx'\n",
    "area_plantada_2013, area_colhida_2013, quantidade_produzida_2013, valor_producao_2013 = carregarDados(path2013)"
   ]
  },
  {
   "cell_type": "markdown",
   "id": "d6d12f50",
   "metadata": {},
   "source": [
    "## Dados 2012"
   ]
  },
  {
   "cell_type": "code",
   "execution_count": 12,
   "id": "56ef318f",
   "metadata": {},
   "outputs": [],
   "source": [
    "path2012 = 'Dados/pma/2012.xlsx'\n",
    "area_plantada_2012, area_colhida_2012, quantidade_produzida_2012, valor_producao_2012 = carregarDados(path2012)"
   ]
  },
  {
   "cell_type": "markdown",
   "id": "5e440ac0",
   "metadata": {},
   "source": [
    "## Dados 2011"
   ]
  },
  {
   "cell_type": "code",
   "execution_count": 13,
   "id": "4d36d551",
   "metadata": {},
   "outputs": [],
   "source": [
    "path2011 = 'Dados/pma/2011.xlsx'\n",
    "area_plantada_2011, area_colhida_2011, quantidade_produzida_2011, valor_producao_2011 = carregarDados(path2011)"
   ]
  },
  {
   "cell_type": "code",
   "execution_count": null,
   "id": "797949d2",
   "metadata": {},
   "outputs": [],
   "source": []
  },
  {
   "cell_type": "markdown",
   "id": "40be115a",
   "metadata": {},
   "source": [
    "## Exemplo de Saída"
   ]
  },
  {
   "cell_type": "code",
   "execution_count": 14,
   "id": "2f438c35",
   "metadata": {},
   "outputs": [
    {
     "data": {
      "text/html": [
       "<div>\n",
       "<style scoped>\n",
       "    .dataframe tbody tr th:only-of-type {\n",
       "        vertical-align: middle;\n",
       "    }\n",
       "\n",
       "    .dataframe tbody tr th {\n",
       "        vertical-align: top;\n",
       "    }\n",
       "\n",
       "    .dataframe thead th {\n",
       "        text-align: right;\n",
       "    }\n",
       "</style>\n",
       "<table border=\"1\" class=\"dataframe\">\n",
       "  <thead>\n",
       "    <tr style=\"text-align: right;\">\n",
       "      <th></th>\n",
       "      <th>Total</th>\n",
       "      <th>Abacaxi*</th>\n",
       "      <th>Alfafa fenada</th>\n",
       "      <th>Algodão herbáceo (em caroço)</th>\n",
       "      <th>Alho</th>\n",
       "      <th>Amendoim (em casca)</th>\n",
       "      <th>Arroz (em casca)</th>\n",
       "      <th>Aveia (em grão)</th>\n",
       "      <th>Batata-doce</th>\n",
       "      <th>Batata-inglesa</th>\n",
       "      <th>...</th>\n",
       "      <th>Mandioca</th>\n",
       "      <th>Melancia</th>\n",
       "      <th>Melão</th>\n",
       "      <th>Milho (em grão)</th>\n",
       "      <th>Rami (fibra)</th>\n",
       "      <th>Soja (em grão)</th>\n",
       "      <th>Sorgo (em grão)</th>\n",
       "      <th>Tomate</th>\n",
       "      <th>Trigo (em grão)</th>\n",
       "      <th>Triticale (em grão)</th>\n",
       "    </tr>\n",
       "    <tr>\n",
       "      <th>Cidades</th>\n",
       "      <th></th>\n",
       "      <th></th>\n",
       "      <th></th>\n",
       "      <th></th>\n",
       "      <th></th>\n",
       "      <th></th>\n",
       "      <th></th>\n",
       "      <th></th>\n",
       "      <th></th>\n",
       "      <th></th>\n",
       "      <th></th>\n",
       "      <th></th>\n",
       "      <th></th>\n",
       "      <th></th>\n",
       "      <th></th>\n",
       "      <th></th>\n",
       "      <th></th>\n",
       "      <th></th>\n",
       "      <th></th>\n",
       "      <th></th>\n",
       "      <th></th>\n",
       "    </tr>\n",
       "  </thead>\n",
       "  <tbody>\n",
       "    <tr>\n",
       "      <th>Açailândia</th>\n",
       "      <td>61287</td>\n",
       "      <td>4</td>\n",
       "      <td>0</td>\n",
       "      <td>0</td>\n",
       "      <td>0</td>\n",
       "      <td>6</td>\n",
       "      <td>99</td>\n",
       "      <td>0</td>\n",
       "      <td>0</td>\n",
       "      <td>0</td>\n",
       "      <td>...</td>\n",
       "      <td>53</td>\n",
       "      <td>12</td>\n",
       "      <td>0</td>\n",
       "      <td>7737</td>\n",
       "      <td>0</td>\n",
       "      <td>53179</td>\n",
       "      <td>0</td>\n",
       "      <td>15</td>\n",
       "      <td>0</td>\n",
       "      <td>0</td>\n",
       "    </tr>\n",
       "    <tr>\n",
       "      <th>Afonso Cunha</th>\n",
       "      <td>7992</td>\n",
       "      <td>0</td>\n",
       "      <td>0</td>\n",
       "      <td>0</td>\n",
       "      <td>0</td>\n",
       "      <td>0</td>\n",
       "      <td>210</td>\n",
       "      <td>0</td>\n",
       "      <td>0</td>\n",
       "      <td>0</td>\n",
       "      <td>...</td>\n",
       "      <td>40</td>\n",
       "      <td>3</td>\n",
       "      <td>0</td>\n",
       "      <td>880</td>\n",
       "      <td>0</td>\n",
       "      <td>6795</td>\n",
       "      <td>0</td>\n",
       "      <td>0</td>\n",
       "      <td>0</td>\n",
       "      <td>0</td>\n",
       "    </tr>\n",
       "    <tr>\n",
       "      <th>Água Doce do Maranhão</th>\n",
       "      <td>835</td>\n",
       "      <td>0</td>\n",
       "      <td>0</td>\n",
       "      <td>0</td>\n",
       "      <td>0</td>\n",
       "      <td>0</td>\n",
       "      <td>0</td>\n",
       "      <td>0</td>\n",
       "      <td>0</td>\n",
       "      <td>0</td>\n",
       "      <td>...</td>\n",
       "      <td>330</td>\n",
       "      <td>0</td>\n",
       "      <td>0</td>\n",
       "      <td>470</td>\n",
       "      <td>0</td>\n",
       "      <td>0</td>\n",
       "      <td>0</td>\n",
       "      <td>0</td>\n",
       "      <td>0</td>\n",
       "      <td>0</td>\n",
       "    </tr>\n",
       "    <tr>\n",
       "      <th>Alcântara</th>\n",
       "      <td>963</td>\n",
       "      <td>0</td>\n",
       "      <td>0</td>\n",
       "      <td>0</td>\n",
       "      <td>0</td>\n",
       "      <td>0</td>\n",
       "      <td>161</td>\n",
       "      <td>0</td>\n",
       "      <td>0</td>\n",
       "      <td>0</td>\n",
       "      <td>...</td>\n",
       "      <td>588</td>\n",
       "      <td>0</td>\n",
       "      <td>0</td>\n",
       "      <td>113</td>\n",
       "      <td>0</td>\n",
       "      <td>0</td>\n",
       "      <td>0</td>\n",
       "      <td>0</td>\n",
       "      <td>0</td>\n",
       "      <td>0</td>\n",
       "    </tr>\n",
       "    <tr>\n",
       "      <th>Aldeias Altas</th>\n",
       "      <td>9221</td>\n",
       "      <td>0</td>\n",
       "      <td>0</td>\n",
       "      <td>0</td>\n",
       "      <td>0</td>\n",
       "      <td>0</td>\n",
       "      <td>970</td>\n",
       "      <td>0</td>\n",
       "      <td>0</td>\n",
       "      <td>0</td>\n",
       "      <td>...</td>\n",
       "      <td>155</td>\n",
       "      <td>6</td>\n",
       "      <td>0</td>\n",
       "      <td>800</td>\n",
       "      <td>0</td>\n",
       "      <td>0</td>\n",
       "      <td>0</td>\n",
       "      <td>0</td>\n",
       "      <td>0</td>\n",
       "      <td>0</td>\n",
       "    </tr>\n",
       "  </tbody>\n",
       "</table>\n",
       "<p>5 rows × 34 columns</p>\n",
       "</div>"
      ],
      "text/plain": [
       "                       Total  Abacaxi*  Alfafa fenada  \\\n",
       "Cidades                                                 \n",
       "Açailândia             61287         4              0   \n",
       "Afonso Cunha            7992         0              0   \n",
       "Água Doce do Maranhão    835         0              0   \n",
       "Alcântara                963         0              0   \n",
       "Aldeias Altas           9221         0              0   \n",
       "\n",
       "                       Algodão herbáceo (em caroço)  Alho  \\\n",
       "Cidades                                                     \n",
       "Açailândia                                        0     0   \n",
       "Afonso Cunha                                      0     0   \n",
       "Água Doce do Maranhão                             0     0   \n",
       "Alcântara                                         0     0   \n",
       "Aldeias Altas                                     0     0   \n",
       "\n",
       "                       Amendoim (em casca)  Arroz (em casca)  Aveia (em grão)  \\\n",
       "Cidades                                                                         \n",
       "Açailândia                               6                99                0   \n",
       "Afonso Cunha                             0               210                0   \n",
       "Água Doce do Maranhão                    0                 0                0   \n",
       "Alcântara                                0               161                0   \n",
       "Aldeias Altas                            0               970                0   \n",
       "\n",
       "                       Batata-doce  Batata-inglesa  ...  Mandioca  Melancia  \\\n",
       "Cidades                                             ...                       \n",
       "Açailândia                       0               0  ...        53        12   \n",
       "Afonso Cunha                     0               0  ...        40         3   \n",
       "Água Doce do Maranhão            0               0  ...       330         0   \n",
       "Alcântara                        0               0  ...       588         0   \n",
       "Aldeias Altas                    0               0  ...       155         6   \n",
       "\n",
       "                       Melão  Milho (em grão)  Rami (fibra)  Soja (em grão)  \\\n",
       "Cidades                                                                       \n",
       "Açailândia                 0             7737             0           53179   \n",
       "Afonso Cunha               0              880             0            6795   \n",
       "Água Doce do Maranhão      0              470             0               0   \n",
       "Alcântara                  0              113             0               0   \n",
       "Aldeias Altas              0              800             0               0   \n",
       "\n",
       "                       Sorgo (em grão)  Tomate  Trigo (em grão)  \\\n",
       "Cidades                                                           \n",
       "Açailândia                           0      15                0   \n",
       "Afonso Cunha                         0       0                0   \n",
       "Água Doce do Maranhão                0       0                0   \n",
       "Alcântara                            0       0                0   \n",
       "Aldeias Altas                        0       0                0   \n",
       "\n",
       "                       Triticale (em grão)  \n",
       "Cidades                                     \n",
       "Açailândia                               0  \n",
       "Afonso Cunha                             0  \n",
       "Água Doce do Maranhão                    0  \n",
       "Alcântara                                0  \n",
       "Aldeias Altas                            0  \n",
       "\n",
       "[5 rows x 34 columns]"
      ]
     },
     "execution_count": 14,
     "metadata": {},
     "output_type": "execute_result"
    }
   ],
   "source": [
    "area_plantada_2020.head()"
   ]
  },
  {
   "cell_type": "code",
   "execution_count": 15,
   "id": "22ce5110",
   "metadata": {},
   "outputs": [
    {
     "data": {
      "text/plain": [
       "61283"
      ]
     },
     "execution_count": 15,
     "metadata": {},
     "output_type": "execute_result"
    }
   ],
   "source": [
    "# Exemplo para o valor total\n",
    "area_plantada_2020.iloc[0, 2:].sum()"
   ]
  },
  {
   "cell_type": "code",
   "execution_count": null,
   "id": "5ec0b65f",
   "metadata": {},
   "outputs": [],
   "source": []
  }
 ],
 "metadata": {
  "kernelspec": {
   "display_name": "Python 3",
   "language": "python",
   "name": "python3"
  },
  "language_info": {
   "codemirror_mode": {
    "name": "ipython",
    "version": 3
   },
   "file_extension": ".py",
   "mimetype": "text/x-python",
   "name": "python",
   "nbconvert_exporter": "python",
   "pygments_lexer": "ipython3",
   "version": "3.8.8"
  }
 },
 "nbformat": 4,
 "nbformat_minor": 5
}
